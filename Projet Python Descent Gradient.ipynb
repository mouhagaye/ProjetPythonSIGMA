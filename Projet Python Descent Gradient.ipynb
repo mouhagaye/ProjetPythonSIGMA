{
 "cells": [
  {
   "cell_type": "code",
   "execution_count": 1,
   "id": "b46a75a2",
   "metadata": {},
   "outputs": [],
   "source": [
    "# import numpy as np\n",
    "# import random\n",
    "\n",
    "\n",
    "# class GradientDescent():\n",
    "    \n",
    "#     \"\"\"Descent gradient class with regularize technique\n",
    "    \n",
    "#     Parameters\n",
    "#     ----------\n",
    "#     regularize : bool\n",
    "#         If True, the regularization is used.\n",
    "#     bias : bool\n",
    "#         If the True, a bias is added to the features.\n",
    "#     alpha : float > 0\n",
    "#         Coefficient for the step when updating the parameters.\n",
    "    \n",
    "#     Notes\n",
    "#     -----\n",
    "#     This class aims at computing the parameters of a linear model using\n",
    "#     a descent gradient method with or without regularization.\n",
    "#     \"\"\"\n",
    "    \n",
    "#     def __init__(self, regularize=False, bias=True, alpha=3e-9, iterations=30000):\n",
    "#         self.bias = bias\n",
    "#         if alpha < 0:\n",
    "#             raise ValueError('Alpha parameter must be > 0. Here {}.'.format(alpha))\n",
    "#         self.alpha = alpha\n",
    "#         self.iterations = iterations\n",
    "#         self.regularize = regularize\n",
    "        \n",
    "#         #set the epsilon value depending on the regularize case\n",
    "#         if regularize:\n",
    "#             self.epsilon = 1e-10\n",
    "#         else:\n",
    "#             self.epsilon = 1e-8\n",
    "    \n",
    "#     def predict(self, new_features):\n",
    "#         \"\"\"Make predictions using the result of the gradient descent\n",
    "        \n",
    "#         Parameters\n",
    "#         ----------\n",
    "#         new_features : 2d sequence of float\n",
    "#             The feature for which to predict the labels.\n",
    "            \n",
    "#         Returns\n",
    "#         -------\n",
    "#         predicted_labels : 2d sequence of float\n",
    "#             The predicted labels\n",
    "        \n",
    "#         Notes\n",
    "#         -----\n",
    "#         The method fit must be called first.\n",
    "#         \"\"\"\n",
    "        \n",
    "#         if self.bias:\n",
    "#             new_features = self._add_bias(new_features)\n",
    "#         return self.hypothesis(new_features, self.parameters_)\n",
    "    \n",
    "    \n",
    "#     def fit(self, features, label, parameters=None):\n",
    "#         \"\"\"Find the optimal parameters\n",
    "        \n",
    "#         Parameters\n",
    "#         ----------\n",
    "#         features : 2d sequence of float\n",
    "#             The input parameters.\n",
    "#         label : 2d sequence of float\n",
    "#             The output parameters\n",
    "#         parameters : 2d sequence of float\n",
    "#             The initial guess for the descent gradient.\n",
    "#         \"\"\"\n",
    "#         # add bias or not\n",
    "#         if self.bias:\n",
    "#             features = self._add_bias(features)\n",
    "        \n",
    "#         # if no initial parameters are given get some randomly\n",
    "#         if parameters is None:\n",
    "#             n = features.shape[1]\n",
    "#             parameters = np.random.rand(n,1)\n",
    "    \n",
    "#         # compute the initial prediction\n",
    "#         predictions = self.hypothesis(features, parameters)\n",
    "        \n",
    "#         # solve depending of the regularization or not\n",
    "#         self.parameters_ = self._regularize_fit(features, label, parameters, predictions)\n",
    "\n",
    "    \n",
    "#     def _regularize_fit(self, features, label, parameters, predictions):\n",
    "#         \"\"\"Find the optimal parameters with regularized method\n",
    "#         \"\"\"\n",
    "\n",
    "#         m = features.shape[0]\n",
    "        \n",
    "#         lmb1 = 0.2\n",
    "#         if self.regularize == False:\n",
    "#             lmb1 = 0\n",
    "#         lmb2 = 0\n",
    "        \n",
    "#         if self.regularize == 'rigde':\n",
    "#             lmb2 = 0\n",
    "#         if self.regularize == 'lasso':\n",
    "#             lmb2 = 1\n",
    "#         if self.regularize == 'elastic-net':\n",
    "#             lmb2 = 0.4\n",
    "#         print('lambda 1 est ',lmb1)\n",
    "#         print('lambda 2 est ',lmb2)\n",
    "        \n",
    "        \n",
    "#         costFct = 0\n",
    "#         costFctEvol = []\n",
    "#         count = 0\n",
    "#         while self.testRegCostFct(predictions, label, lmb1, lmb2, parameters, costFct, self.epsilon):\n",
    "#             count += 1\n",
    "#             costFct = self.regCostFunction(predictions, label, lmb1, lmb2, parameters)\n",
    "#             grads = self.regGradients(predictions, label, features, lmb1, lmb2, parameters)\n",
    "#             parameters = self.updateParameters(parameters, grads, self.alpha)\n",
    "#             predictions = self.hypothesis(features, parameters)\n",
    "#             costFctEvol.append(costFct)\n",
    "            \n",
    "#         plt.xlabel('Iterations')\n",
    "#         plt.ylabel('Fonction cout')\n",
    "#         plt.title('Evolution de la fonction cout en fonctions des iterations')\n",
    "#         plt.plot(costFctEvol)\n",
    "#         return parameters\n",
    "    \n",
    "#     def _add_bias(self, features):\n",
    "#         \"\"\"Add bias column (1 vector)\n",
    "#         \"\"\"\n",
    "#         bias = np.ones(features.shape[0])\n",
    "#         return np.column_stack([features, bias])\n",
    "        \n",
    "#     def hypothesis(self, x, theta):\n",
    "#         \"\"\"Compute our hypothesis model (linear regression), use a fonction:\n",
    "#         \"\"\"\n",
    "#         return np.dot(x, theta)\n",
    "    \n",
    "#     def costFunction(self, yhat, y):\n",
    "#         \"\"\"Fonction de coût\n",
    "#         \"\"\"\n",
    "#         return np.square(yhat - y).sum() / (2*y.shape[0])\n",
    "    \n",
    "#     def regCostFunction(self, yhat, y, lmb1, lmb2, theta):\n",
    "#         \"\"\"Fonction de coût régularisée\n",
    "#         \"\"\"\n",
    "#         #return self.costFunction(yhat, y) + lmb1/((2*y.shape[0]) * np.square(theta)).sum()\n",
    "\n",
    "\n",
    "#         return self.costFunction(yhat, y) + lmb1*(((1-lmb2)/2) * np.square(theta).sum() + lmb2*(np.abs(theta)).sum())\n",
    "    \n",
    "#     def gradients(self, yhat, y, x):\n",
    "#         \"\"\"Dérivée de la fonction de coût == gradients\n",
    "#         \"\"\"\n",
    "        \n",
    "#         return (((yhat - y) * x).sum(axis=0) / x.shape[0]).reshape(x.shape[1],1)\n",
    "\n",
    "#     def regGradients(self, yhat, y, x, lmb1 ,lmb2 , theta):\n",
    "#         \"\"\"Dérivée de la fonction de coût regularisée\n",
    "#         \"\"\"\n",
    "#         #return (((yhat - y) * x).sum(axis=0) / x.shape[0]).reshape(x.shape[1],1) + lmb1/x.shape[0]*theta\n",
    "\n",
    "#         return (((yhat - y) * x).sum(axis=0) / x.shape[0]).reshape(x.shape[1],1) + (lmb1*(1-lmb2))/x.shape[0]*theta\n",
    "    \n",
    "#     def updateParameters(self, parameters, grads, alpha):\n",
    "#         \"\"\"Gradient descent: mise à jour des paramètres\n",
    "#         \"\"\"\n",
    "#         return parameters - alpha * grads\n",
    "    \n",
    "#     def testRegCostFct(self, yhat, y, lmb1, lmb2, theta, prevCostFct, epsilon):\n",
    "#         \"\"\" Fonction pour tester l'évolution de la fonction de coût régularisée\n",
    "            \n",
    "#             Returns\n",
    "#             -------\n",
    "#             test : bool\n",
    "#                 vrai = continuer la descente de gradient\n",
    "#         \"\"\"\n",
    "#         return np.abs(self.regCostFunction(yhat, y, lmb1, lmb2, theta) - prevCostFct) >= epsilon*prevCostFct\n",
    "    \n",
    "#     def train_test_split(self, X, y, ratio=0.3, random_seed = 42):\n",
    "#         \"\"\" Fonction pour subdiviser les donnees en donnees d'entrainement et donnees de test.\n",
    "        \n",
    "#              Parametres\n",
    "#             ----------\n",
    "#             X : 2d sequence of float\n",
    "#                 The input parameters.\n",
    "#             y : 2d sequence of float\n",
    "#                 The output parameters\n",
    "#             ratio : La ratio du test set.\n",
    "            \n",
    "#             Returns\n",
    "#             -------\n",
    "#             X_train : les features d'entrainement.\n",
    "#             y_train : les labels d'entrainement.\n",
    "#             X_test : les features de test.\n",
    "#             y_test : les labels de test.\n",
    "            \n",
    "#         \"\"\"\n",
    "#         X_train = []\n",
    "#         y_train = []\n",
    "#         X_test = []\n",
    "#         y_test = []\n",
    "#         rows = len(X)\n",
    "#         random.seed(random_seed)\n",
    "#         test_index = random.sample(range(0,rows), int(rows*ratio))\n",
    "#         for i in range(rows):\n",
    "#             if i in test_index:\n",
    "#                 X_test.append(X[i])\n",
    "#                 y_test.append(y[i])\n",
    "#             else:\n",
    "#                 X_train.append(X[i])\n",
    "#                 y_train.append(y[i])\n",
    "#         return np.array(X_train), np.array(y_train), np.array(X_test), np.array(y_test)\n",
    "    \n",
    "#     def mae(self, y, y_pred) :\n",
    "#         return np.abs(y_pred - y).sum() / (2*y.shape[0])\n",
    "    \n",
    "#     def rmse(self, y, y_pred) :\n",
    "#         return np.sqrt(np.square(y_pred - y).sum() / (2*y.shape[0]))\n",
    "    \n",
    "#     def r2_score(self, y, y_pred) :\n",
    "#         return 1 - (np.square(y_pred - y).sum() / np.square(y_pred - np.mean(y)).sum())\n",
    "        "
   ]
  },
  {
   "cell_type": "code",
   "execution_count": 524,
   "id": "6176afc9",
   "metadata": {},
   "outputs": [],
   "source": [
    "import numpy as np\n",
    "import random\n",
    "import matplotlib.pyplot as plt\n",
    "\n",
    "\n",
    "class GradientDescent():\n",
    "    \n",
    "    \"\"\"Ce module permet d'implementer une descente de gradient.\n",
    "    \n",
    "    Parametres\n",
    "    ----------\n",
    "    regularize : valeur possible (False, rigde, lasso, elasticNet)\n",
    "        False : effectue une descente de gradient classique sans regularisation.\n",
    "        rigde : effectue une descente de gradient avec regularisation Rigde.\n",
    "        lasso : effectue une descente de gradient avec regularisation Lasso.\n",
    "        elasticNet : permet d'effectuer une descente de gradient avec regularisation ElasticNet.\n",
    "    bias : bool\n",
    "        Si True, ajoute le biais sur les features.\n",
    "    learning_rate : float > 0\n",
    "        contitue le pas lors de la mise a jour des parametres.\n",
    "    \n",
    "    Notes\n",
    "    -----\n",
    "    Cette classe vise à calculer les paramètres d'un modèle linéaire en utilisant\n",
    "    une méthode de descente de gradient avec ou sans régularisation..\n",
    "    \"\"\"\n",
    "    \n",
    "    def __init__(self, regularize=False, bias=True, learning_rate=3e-9, normalize = False):\n",
    "        self.bias = bias\n",
    "        if learning_rate < 0:\n",
    "            raise ValueError('learning_rate parameter must be > 0. Here {}.'.format(learning_rate))\n",
    "        self.learning_rate = learning_rate\n",
    "        self.regularize = regularize\n",
    "        self.lambd = 0\n",
    "        self.alpha = 0\n",
    "        self.normalize = normalize\n",
    "        \n",
    "        \n",
    "        if self.regularize:    \n",
    "            self.epsilon = 1e-10\n",
    "            if self.regularize == 'ridge':\n",
    "                self.alpha = 0\n",
    "            elif self.regularize == 'lasso':\n",
    "                self.alpha = 1\n",
    "            elif self.regularize == 'elasticNet':\n",
    "                self.alpha = 0.4\n",
    "            else :\n",
    "                raise ValueError(\"le parametre 'regularize' ne peut prendre que : 'False', 'ridge', 'lasso', 'elasticNet'\")\n",
    "        else:\n",
    "            self.epsilon = 1e-8\n",
    "            self.lambd = 0\n",
    "            self.alpha = 0\n",
    "    \n",
    "    def predict(self, new_features):\n",
    "        \"\"\"Faire des prédictions en utilisant le résultat de la descente de gradient.\n",
    "        \n",
    "        Paramètres\n",
    "        ----------\n",
    "        new_features : matrice de flottants.\n",
    "            La caractéristique pour laquelle il faut prédire les étiquettes.\n",
    "            \n",
    "        Return\n",
    "        -------\n",
    "        predicted_labels : matrice de flottants.\n",
    "            les predictions du modele\n",
    "        \n",
    "        Notes\n",
    "        -----\n",
    "        La méthode fit doit être appelée en premier.\n",
    "        \"\"\"\n",
    "        \n",
    "        if self.bias:\n",
    "            new_features = self._add_bias(new_features)\n",
    "        return self.hypothesis(new_features, self.parameters_)\n",
    "    \n",
    "    \n",
    "    def fit(self, features, label, parameters=None, lambd=0, alpha=0):\n",
    "        \"\"\"Find the optimal parameters\n",
    "        \n",
    "        Parametres\n",
    "        ----------\n",
    "        features : matrice de flottants.\n",
    "            Les donnees d'entrainements.\n",
    "        label : matrice de flottants ou vecteur.\n",
    "            Le etiquettes des donnees d'entrainements.\n",
    "        parameters : matrice de flottants ou vecteur.\n",
    "            Les parametres du modele.\n",
    "        \"\"\"\n",
    "        \n",
    "        if self.normalize:\n",
    "            features = self.standardScaler(features)\n",
    "        # add bias or not\n",
    "        if self.bias:\n",
    "            features = self._add_bias(features)\n",
    "        \n",
    "        # if no initial parameters are given get some randomly\n",
    "        if parameters is None:\n",
    "            n = features.shape[1]\n",
    "            parameters = np.random.rand(n,1)\n",
    "    \n",
    "        # compute the initial prediction\n",
    "        predictions = self.hypothesis(features, parameters)\n",
    "        \n",
    "        # solve depending of the regularization or not\n",
    "        self.parameters_ = self._fit(features, label, parameters, predictions, self.lambd, self.alpha)\n",
    "\n",
    "    \n",
    "    def _fit(self, features, label, parameters, predictions, lambd, alpha):\n",
    "        \"\"\"Trouver les paramètres optimaux\n",
    "        \"\"\"\n",
    "\n",
    "        m = features.shape[0]\n",
    "   \n",
    "        if self.regularize == 'rigde':\n",
    "            self.lambd = lambd\n",
    "            if self.alpha != 0 :\n",
    "                raise ValueError(\"Le parametre 'alpha' ne concerne pas la regularisation Ridge\")\n",
    "            \n",
    "        elif self.regularize == 'lasso':\n",
    "            self.lambd = lambd\n",
    "            if self.alpha != 1:\n",
    "                raise ValueError(\"Le parametre 'alpha' ne concerne pas la regularisation Lasso\")\n",
    "                \n",
    "        elif self.regularize == 'elasticNet':\n",
    "            self.alpha = alpha\n",
    "            self.lambd = lambd\n",
    "\n",
    "    \n",
    "        \n",
    "        costFct = 0\n",
    "        costFctEvol = []\n",
    "        count = 0\n",
    "        while self.testCostFct(predictions, label, self.lambd, self.alpha, parameters, costFct, self.epsilon):\n",
    "            count += 1\n",
    "            costFct = self.costFunction(predictions, label, self.lambd, self.alpha, parameters)\n",
    "            grads = self.gradients(predictions, label, features, self.lambd, self.alpha, parameters)\n",
    "            parameters = self.updateParameters(parameters, grads, self.learning_rate)\n",
    "            predictions = self.hypothesis(features, parameters)\n",
    "            costFctEvol.append(costFct)\n",
    "            \n",
    "        plt.xlabel('Iterations')\n",
    "        plt.ylabel('Fonction cout')\n",
    "        plt.title('Evolution de la fonction cout en fonctions des iterations')\n",
    "        plt.plot(costFctEvol)\n",
    "        return parameters\n",
    "    \n",
    "    def _add_bias(self, features):\n",
    "        \"\"\"Ajouter une colonne de bias (1 vecteur)\n",
    "        \"\"\"\n",
    "        bias = np.ones(features.shape[0])\n",
    "        return np.column_stack([features, bias])\n",
    "        \n",
    "    def hypothesis(self, x, theta):\n",
    "        \"\"\"Calculer notre modèle d'hypothèse (régression linéaire), utiliser une fonction :\n",
    "        \"\"\"\n",
    "        return np.dot(x, theta)\n",
    "    \n",
    "    def _costFunction(self, yhat, y):\n",
    "        \"\"\"Fonction de coût\n",
    "        \"\"\"\n",
    "        return np.square(yhat - y).sum() / (2*y.shape[0])\n",
    "    def costFunction(self, yhat, y, lambd, alpha, theta):\n",
    "        \"\"\"Fonction de coût avec ou sans régularisée selon les parametres.\n",
    "        \"\"\"\n",
    "        return self._costFunction(yhat, y) + lambd*(((1-alpha)/2) * np.square(theta).sum() + alpha*(np.abs(theta)).sum())\n",
    "    \n",
    "\n",
    "\n",
    "    def gradients(self, yhat, y, x, lambd ,alpha , theta):\n",
    "        \"\"\"Dérivée de la fonction de coût\n",
    "        \"\"\"\n",
    "\n",
    "        return (((yhat - y) * x).sum(axis=0) / x.shape[0]).reshape(x.shape[1],1) + (lambd*(1-alpha))/x.shape[0]*theta\n",
    "    \n",
    "    def updateParameters(self, parameters, grads, learning_rate):\n",
    "        \"\"\"Gradient descent: mise à jour des paramètres\n",
    "        \"\"\"\n",
    "        return parameters - learning_rate * grads\n",
    "    \n",
    "    def testCostFct(self, yhat, y, lambd, alpha, theta, prevCostFct, epsilon):\n",
    "        \"\"\" Fonction pour tester l'évolution de la fonction de coût régularisée\n",
    "            \n",
    "            Returns\n",
    "            -------\n",
    "            test : bool\n",
    "                vrai = continuer la descente de gradient\n",
    "        \"\"\"\n",
    "        return np.abs(self.costFunction(yhat, y, lambd, alpha, theta) - prevCostFct) >= epsilon*prevCostFct\n",
    "        \n",
    "    \n",
    "    def train_test_split(self, X, y, ratio=0.3, random_seed = 42):\n",
    "        \"\"\" Fonction pour subdiviser les donnees en donnees d'entrainement et donnees de test.\n",
    "        \n",
    "             Parametres\n",
    "            ----------\n",
    "            X : matrice de flottants.\n",
    "            Les donnees d'entrainements.\n",
    "            \n",
    "            y : matrice de flottants ou vecteur.\n",
    "            Le etiquettes des donnees d'entrainements.\n",
    "            \n",
    "            ratio : La ratio du test set.\n",
    "            \n",
    "            Returns\n",
    "            -------\n",
    "            X_train : les features d'entrainement.\n",
    "            y_train : les labels d'entrainement.\n",
    "            X_test : les features de test.\n",
    "            y_test : les labels de test.\n",
    "            \n",
    "        \"\"\"\n",
    "        X_train = []\n",
    "        y_train = []\n",
    "        X_test = []\n",
    "        y_test = []\n",
    "        rows = len(X)\n",
    "        random.seed(random_seed)\n",
    "        test_index = random.sample(range(0,rows), int(rows*ratio))\n",
    "        for i in range(rows):\n",
    "            if i in test_index:\n",
    "                X_test.append(X[i])\n",
    "                y_test.append(y[i])\n",
    "            else:\n",
    "                X_train.append(X[i])\n",
    "                y_train.append(y[i])\n",
    "        return np.array(X_train), np.array(y_train), np.array(X_test), np.array(y_test)\n",
    "    \n",
    "    def mae(self, y, y_pred) :\n",
    "        \"\"\" Fonction determiner le score Mean Absolute Error.\n",
    "        \n",
    "             Parametres\n",
    "            ----------\n",
    "            y : matrice de flottants ou vecteur.\n",
    "                Le etiquettes des donnees d'entrainements.\n",
    "            y_pred : matrice de flottants ou vecteur.\n",
    "                    valeurs predites par le modele.\n",
    "            \n",
    "            \n",
    "            Returns\n",
    "            -------\n",
    "            score : flottant.\n",
    "                le score par la metric Mean Absolute Error.\n",
    "            \n",
    "        \"\"\"\n",
    "        return np.abs(y_pred - y).sum() / (2*y.shape[0])\n",
    "    \n",
    "    def rmse(self, y, y_pred) :\n",
    "        \n",
    "        \"\"\" Fonction determiner le score Root Mean Squared Error.\n",
    "        \n",
    "             Parametres\n",
    "            ----------\n",
    "            y : matrice de flottants ou vecteur.\n",
    "                Le etiquettes des donnees d'entrainements.\n",
    "            y_pred : matrice de flottants ou vecteur.\n",
    "                    valeurs predites par le modele.\n",
    "            \n",
    "            \n",
    "            Returns\n",
    "            -------\n",
    "            score : flottant.\n",
    "                le score par la metric Root Mean Squared Error.\n",
    "            \n",
    "        \"\"\"\n",
    "        return np.sqrt(np.square(y_pred - y).sum() / (2*y.shape[0]))\n",
    "    \n",
    "    def r2_score(self, y, y_pred) :\n",
    "        \"\"\" Fonction determiner le score Coefficient de determination R2.\n",
    "        \n",
    "             Parametres\n",
    "            ----------\n",
    "            y : matrice de flottants ou vecteur.\n",
    "                Le etiquettes des donnees d'entrainements.\n",
    "            y_pred : matrice de flottants ou vecteur.\n",
    "                    valeurs predites par le modele.\n",
    "            \n",
    "            \n",
    "            Returns\n",
    "            -------\n",
    "            score : flottant.\n",
    "                le score par la metric Coefficient de determination R2.\n",
    "            \n",
    "        \"\"\"\n",
    "        return 1 - (np.square(y_pred - y).sum() / np.square(y_pred - np.mean(y)).sum())\n",
    "    \n",
    "    def standardScaler(self, X):\n",
    "        \n",
    "        \"\"\" Fonction determiner le score Coefficient de determination R2.\n",
    "        \n",
    "             Parametres\n",
    "            ----------\n",
    "            X : matrice de flottants.\n",
    "                les donnees d'entrainements a normaliser.\n",
    "            \n",
    "            Returns\n",
    "            -------\n",
    "             X : matrice de flottants.\n",
    "                les donnees normalisees ( centrees reduites ).\n",
    "            \n",
    "        \"\"\"\n",
    "        return np.array((X - X.mean(axis=0)) / (X.std(axis=0)))\n",
    "    def standardScaler(self, X):\n",
    "        \n",
    "        \"\"\" Fonction determiner le score Coefficient de determination R2.\n",
    "        \n",
    "             Parametres\n",
    "            ----------\n",
    "            X : matrice de flottants.\n",
    "                les donnees d'entrainements a normaliser.\n",
    "            \n",
    "            Returns\n",
    "            -------\n",
    "             X : matrice de flottants.\n",
    "                les donnees normalisees ( centrees reduites ).\n",
    "            \n",
    "        \"\"\"\n",
    "        return np.array((X - X.mean(axis=0)) / (X.std(axis=0)))\n",
    "    \n",
    "    def tunning(self,X,y,scoring,nb_params=10, validation_ratio = 0.3):\n",
    "        \"\"\"Ce module determine les hyperparametres optimale de regularisations \n",
    "    \n",
    "        Parametres\n",
    "        ----------\n",
    "            X : matrice de flottants.\n",
    "                les features des donnees d'entrainements.\n",
    "            y: vecteur de flottants.\n",
    "                les features des donnees d'entrainements.\n",
    "            scoring : Le type de scoring pour evaluer les hyperparametres\n",
    "                valeurs possible ('mae', 'rmse', 'r2_score')\n",
    "            nb_params : Entier\n",
    "                le nombre de hyperparamtres a tester\n",
    "            validation_ratio : Flottant\n",
    "                le ratio du validation set.\n",
    "    \n",
    "        \"\"\"\n",
    "        if self.regularize == False:    \n",
    "            raise ValueError(\"Les hyperparametre de penalite s'applique uniquement sur une descent de gradient regularisee\")\n",
    "        else:\n",
    "            if scoring not in ['rmse','mae','r2_score']:\n",
    "                   raise ValueError(\"valeurs possible pour le scoring : 'mae', 'rmse', 'r2_score' \")\n",
    "            a_tester = np.arange(0.01,1,round(1/nb_params, 2))\n",
    "            X_train, y_train, X_validate, y_validate = g.train_test_split(X,y,ratio=validation_ratio)\n",
    "        \n",
    "            if self.regularize == 'ridge' or self.regularize == 'lasso':\n",
    "               \n",
    "                \n",
    "                if scoring == \"rmse\":\n",
    "                    best_score = 9e100\n",
    "                    best_param = 0\n",
    "    \n",
    "                    for i in a_tester:\n",
    "                        g.fit(X_train,y_train, lambd = i)\n",
    "                        y_pred = g.predict(X_validate)\n",
    "\n",
    "                        if scoring == \"rmse\":\n",
    "                            score = g.rmse(y_pred, y_validate)\n",
    "                            if score < best_score:\n",
    "                                best_score = score\n",
    "                                best_param = i\n",
    "                            \n",
    "    \n",
    "                    \n",
    "                elif scoring == \"mae\":\n",
    "                    best_score = 9e100\n",
    "                    best_param = 0\n",
    "    \n",
    "                    for i in a_tester:\n",
    "                        g.fit(X_train,y_train, lambd = i)\n",
    "                        y_pred = g.predict(X_validate)\n",
    "\n",
    "                        if scoring == \"mae\":\n",
    "                            score = g.mae(y_pred, y_validate)\n",
    "                            if score < best_score:\n",
    "                                best_score = score\n",
    "                                best_param = i\n",
    "                    \n",
    "                    \n",
    "                elif scoring == \"r2\":\n",
    "                    best_score = 0\n",
    "                    best_param = 0\n",
    "    \n",
    "                    for i in a_tester:\n",
    "                        g.fit(X_train,y_train, lambd = i)\n",
    "                        y_pred = g.predict(X_validate)\n",
    "\n",
    "                        if scoring == \"mae\":\n",
    "                            score = g.r2_score(y_pred, y_validate)\n",
    "                            if score > best_score:\n",
    "                                best_score = score\n",
    "                                best_param = i\n",
    "                print(\"Le meilleur parametre de penalite lambda : \",best_param)\n",
    "                    \n",
    "            elif self.regularize == 'elasticNet':\n",
    "                \n",
    "                if scoring == \"rmse\":\n",
    "                    best_score = 9e100\n",
    "                    best_param = 0\n",
    "    \n",
    "                    for i in a_tester:\n",
    "                        for j in a_tester:\n",
    "                            g.fit(X_train,y_train, lambd = i, alpha = j)\n",
    "                            y_pred = g.predict(X_validate)\n",
    "\n",
    "                            if scoring == \"rmse\":\n",
    "                                score = g.rmse(y_pred, y_validate)\n",
    "                                if score < best_score:\n",
    "                                    best_score = score\n",
    "                                    best_param = i , j\n",
    "        \n",
    "                    \n",
    "                elif scoring == \"mae\":\n",
    "                    best_score = 9e100\n",
    "                    best_param = 0\n",
    "    \n",
    "                    for i in a_tester:\n",
    "                        for j in a_tester:\n",
    "                            g.fit(X_train,y_train, lambd = i, alpha = j)\n",
    "                            y_pred = g.predict(X_validate)\n",
    "\n",
    "                            if scoring == \"mae\":\n",
    "                                score = g.mae(y_pred, y_validate)\n",
    "                                if score < best_score:\n",
    "                                    best_score = score\n",
    "                                    best_param = i , j\n",
    "                    \n",
    "                elif scoring == \"r2\":\n",
    "                    best_score = 0\n",
    "                    best_param = 0 , 0\n",
    "    \n",
    "                    for i in a_tester:\n",
    "                        for j in a_tester:\n",
    "                            g.fit(X_train,y_train, lambd = i, alpha = j)\n",
    "                            y_pred = g.predict(X_validate)\n",
    "\n",
    "                            if scoring == \"r2\":\n",
    "                                score = g.r2_score(y_pred, y_validate)\n",
    "                                if score > best_score:\n",
    "                                    best_score = score\n",
    "                                    best_param = i , j\n",
    "                print(\"Les meilleurs parametres de penalite pour la regularisation sont : lambda = \",best_param[0],\", alpha = \",best_param[1])               "
   ]
  },
  {
   "cell_type": "code",
   "execution_count": 525,
   "id": "8c47d1d2",
   "metadata": {},
   "outputs": [],
   "source": [
    "best = 0,1"
   ]
  },
  {
   "cell_type": "code",
   "execution_count": 526,
   "id": "06476cd1",
   "metadata": {},
   "outputs": [
    {
     "data": {
      "text/plain": [
       "1"
      ]
     },
     "execution_count": 526,
     "metadata": {},
     "output_type": "execute_result"
    }
   ],
   "source": [
    "best[1]"
   ]
  },
  {
   "cell_type": "code",
   "execution_count": 527,
   "id": "17630df4",
   "metadata": {},
   "outputs": [],
   "source": [
    "g = GradientDescent(regularize = 'ridge',learning_rate = 0.03, normalize = False)"
   ]
  },
  {
   "cell_type": "code",
   "execution_count": 528,
   "id": "6ae1d966",
   "metadata": {},
   "outputs": [],
   "source": [
    "import numpy as np \n",
    "import pandas as pd\n",
    "np.random.seed(67)"
   ]
  },
  {
   "cell_type": "code",
   "execution_count": 529,
   "id": "237211bc",
   "metadata": {},
   "outputs": [],
   "source": [
    "X = 3 * np.random.rand(100, 1) - 2\n",
    "Y = 2*X + 7 + np.random.randn(100, 1)"
   ]
  },
  {
   "cell_type": "code",
   "execution_count": 530,
   "id": "d264cf66",
   "metadata": {},
   "outputs": [],
   "source": [
    "# from sklearn.datasets import load_diabetes\n",
    "# diabetes = load_diabetes()\n",
    "# X = diabetes.data\n",
    "# Y = diabetes.target"
   ]
  },
  {
   "cell_type": "code",
   "execution_count": 531,
   "id": "22daa386",
   "metadata": {},
   "outputs": [
    {
     "data": {
      "text/plain": [
       "(100, 1)"
      ]
     },
     "execution_count": 531,
     "metadata": {},
     "output_type": "execute_result"
    }
   ],
   "source": [
    "X.shape"
   ]
  },
  {
   "cell_type": "code",
   "execution_count": 532,
   "id": "2e37d3c0",
   "metadata": {},
   "outputs": [
    {
     "data": {
      "text/plain": [
       "False"
      ]
     },
     "execution_count": 532,
     "metadata": {},
     "output_type": "execute_result"
    }
   ],
   "source": [
    "1 > 9e100"
   ]
  },
  {
   "cell_type": "code",
   "execution_count": 533,
   "id": "2ac7d18e",
   "metadata": {},
   "outputs": [
    {
     "data": {
      "text/plain": [
       "(100, 1)"
      ]
     },
     "execution_count": 533,
     "metadata": {},
     "output_type": "execute_result"
    }
   ],
   "source": [
    "Y.shape"
   ]
  },
  {
   "cell_type": "code",
   "execution_count": 534,
   "id": "bc39cc07",
   "metadata": {},
   "outputs": [
    {
     "data": {
      "text/plain": [
       "(100, 1)"
      ]
     },
     "execution_count": 534,
     "metadata": {},
     "output_type": "execute_result"
    }
   ],
   "source": [
    "Y = Y.reshape(-1,1)\n",
    "Y.shape"
   ]
  },
  {
   "cell_type": "code",
   "execution_count": 535,
   "id": "82337f27",
   "metadata": {},
   "outputs": [
    {
     "data": {
      "text/plain": [
       "1"
      ]
     },
     "execution_count": 535,
     "metadata": {},
     "output_type": "execute_result"
    }
   ],
   "source": [
    "len(np.std(X, axis = 0))"
   ]
  },
  {
   "cell_type": "code",
   "execution_count": 536,
   "id": "9e976b46",
   "metadata": {},
   "outputs": [],
   "source": [
    "X_train, y_train, X_test, y_test = g.train_test_split(X,Y,ratio=0.3,random_seed=44)"
   ]
  },
  {
   "cell_type": "code",
   "execution_count": 537,
   "id": "ca02ebc6",
   "metadata": {},
   "outputs": [
    {
     "data": {
      "text/plain": [
       "(70, 1)"
      ]
     },
     "execution_count": 537,
     "metadata": {},
     "output_type": "execute_result"
    }
   ],
   "source": [
    "X_train.shape"
   ]
  },
  {
   "cell_type": "code",
   "execution_count": 538,
   "id": "2bffaf7c",
   "metadata": {},
   "outputs": [],
   "source": [
    "import matplotlib.pyplot as plt"
   ]
  },
  {
   "cell_type": "code",
   "execution_count": 539,
   "id": "08f15c2c",
   "metadata": {
    "scrolled": true
   },
   "outputs": [],
   "source": [
    "# plt.figure()\n",
    "# plt.scatter(X_train,y_train,alpha = 0.7)\n",
    "# plt.xlabel('Features')\n",
    "# plt.ylabel('Labels')"
   ]
  },
  {
   "cell_type": "code",
   "execution_count": 540,
   "id": "a8ddb24c",
   "metadata": {},
   "outputs": [
    {
     "data": {
      "text/plain": [
       "array([0. , 0.1, 0.2, 0.3, 0.4, 0.5, 0.6, 0.7, 0.8, 0.9])"
      ]
     },
     "execution_count": 540,
     "metadata": {},
     "output_type": "execute_result"
    }
   ],
   "source": [
    "np.arange(0,1,0.1)"
   ]
  },
  {
   "cell_type": "code",
   "execution_count": 541,
   "id": "6f24460d",
   "metadata": {},
   "outputs": [
    {
     "name": "stdout",
     "output_type": "stream",
     "text": [
      "Le meilleur parametre de penalite lambda :  0.51\n"
     ]
    },
    {
     "data": {
      "image/png": "[encoded data removed]",
      "text/plain": [
       "<Figure size 432x288 with 1 Axes>"
      ]
     },
     "metadata": {
      "needs_background": "light"
     },
     "output_type": "display_data"
    }
   ],
   "source": [
    "s = g.tunning(X_train, y_train, \"mae\", nb_params=10, validation_ratio = 0.3)"
   ]
  },
  {
   "cell_type": "code",
   "execution_count": 522,
   "id": "ae9e8592",
   "metadata": {},
   "outputs": [
    {
     "data": {
      "image/png": "[encoded data removed]",
      "text/plain": [
       "<Figure size 432x288 with 1 Axes>"
      ]
     },
     "metadata": {
      "needs_background": "light"
     },
     "output_type": "display_data"
    }
   ],
   "source": [
    "maxi = 0\n",
    "best = 0\n",
    "for i in lambd:\n",
    "    g.fit(X_train,y_train, lambd = i)\n",
    "    y_pred = g.predict(X_test)\n",
    "    score = g.rmse(y_pred, y_test)\n",
    "    if score > maxi:\n",
    "        maxi = score\n",
    "    best = i"
   ]
  },
  {
   "cell_type": "code",
   "execution_count": 523,
   "id": "a90282a8",
   "metadata": {},
   "outputs": [
    {
     "data": {
      "text/plain": [
       "0.9"
      ]
     },
     "execution_count": 523,
     "metadata": {},
     "output_type": "execute_result"
    }
   ],
   "source": [
    "best"
   ]
  },
  {
   "cell_type": "code",
   "execution_count": 70,
   "id": "afb1a361",
   "metadata": {},
   "outputs": [
    {
     "data": {
      "text/plain": [
       "array([0. , 0.1, 0.2, 0.3, 0.4, 0.5, 0.6, 0.7, 0.8, 0.9])"
      ]
     },
     "execution_count": 70,
     "metadata": {},
     "output_type": "execute_result"
    }
   ],
   "source": [
    "lambd"
   ]
  },
  {
   "cell_type": "code",
   "execution_count": 21,
   "id": "6309b61a",
   "metadata": {},
   "outputs": [],
   "source": [
    "slope , intercept = g.parameters_[0][0],  g.parameters_[1][0]"
   ]
  },
  {
   "cell_type": "code",
   "execution_count": 22,
   "id": "7a038c17",
   "metadata": {},
   "outputs": [
    {
     "data": {
      "text/plain": [
       "array([[ -24.62658308],\n",
       "       [-270.22196515],\n",
       "       [ 503.93855908],\n",
       "       [ 362.06748176],\n",
       "       [ -50.36962886],\n",
       "       [-125.34326717],\n",
       "       [-220.18345312],\n",
       "       [ 127.31801648],\n",
       "       [ 456.89968753],\n",
       "       [  42.21623661],\n",
       "       [ 152.0183723 ]])"
      ]
     },
     "execution_count": 22,
     "metadata": {},
     "output_type": "execute_result"
    }
   ],
   "source": [
    "g.parameters_"
   ]
  },
  {
   "cell_type": "code",
   "execution_count": 23,
   "id": "ea7c4baa",
   "metadata": {},
   "outputs": [
    {
     "data": {
      "text/plain": [
       "-24.626583078009983"
      ]
     },
     "execution_count": 23,
     "metadata": {},
     "output_type": "execute_result"
    }
   ],
   "source": [
    "slope"
   ]
  },
  {
   "cell_type": "code",
   "execution_count": 24,
   "id": "7be3fe22",
   "metadata": {},
   "outputs": [],
   "source": [
    "# plt.figure()\n",
    "# plt.scatter(X,Y,alpha = 0.7)\n",
    "# plt.plot(X,X*slope+intercept, color = 'red')\n",
    "# plt.xlabel('Features')\n",
    "# plt.ylabel('Labels')"
   ]
  },
  {
   "cell_type": "code",
   "execution_count": 25,
   "id": "f60e7b23",
   "metadata": {},
   "outputs": [],
   "source": [
    "y_pred = g.predict(X_test)"
   ]
  },
  {
   "cell_type": "code",
   "execution_count": 26,
   "id": "134e8ff0",
   "metadata": {},
   "outputs": [
    {
     "data": {
      "text/plain": [
       "0.5327425855215635"
      ]
     },
     "execution_count": 26,
     "metadata": {},
     "output_type": "execute_result"
    }
   ],
   "source": [
    "g.r2_score(y_pred, y_test)"
   ]
  },
  {
   "cell_type": "code",
   "execution_count": null,
   "id": "76ebab82",
   "metadata": {},
   "outputs": [],
   "source": []
  },
  {
   "cell_type": "code",
   "execution_count": null,
   "id": "a73876da",
   "metadata": {},
   "outputs": [],
   "source": []
  }
 ],
 "metadata": {
  "kernelspec": {
   "display_name": "Python 3",
   "language": "python",
   "name": "python3"
  },
  "language_info": {
   "codemirror_mode": {
    "name": "ipython",
    "version": 3
   },
   "file_extension": ".py",
   "mimetype": "text/x-python",
   "name": "python",
   "nbconvert_exporter": "python",
   "pygments_lexer": "ipython3",
   "version": "3.8.8"
  }
 },
 "nbformat": 4,
 "nbformat_minor": 5
}
