{
 "cells": [
  {
   "cell_type": "code",
   "execution_count": 585,
   "id": "b46a75a2",
   "metadata": {},
   "outputs": [],
   "source": [
    "import numpy as np\n",
    "import random\n",
    "\n",
    "\n",
    "class GradientDescent():\n",
    "    \n",
    "    \"\"\"Descent gradient class with regularize technique\n",
    "    \n",
    "    Parameters\n",
    "    ----------\n",
    "    regularize : bool\n",
    "        If True, the regularization is used.\n",
    "    bias : bool\n",
    "        If the True, a bias is added to the features.\n",
    "    alpha : float > 0\n",
    "        Coefficient for the step when updating the parameters.\n",
    "    \n",
    "    Notes\n",
    "    -----\n",
    "    This class aims at computing the parameters of a linear model using\n",
    "    a descent gradient method with or without regularization.\n",
    "    \"\"\"\n",
    "    \n",
    "    def __init__(self, regularize=False, bias=True, alpha=3e-9):\n",
    "        self.bias = bias\n",
    "        if alpha < 0:\n",
    "            raise ValueError('Alpha parameter must be > 0. Here {}.'.format(alpha))\n",
    "        self.alpha = alpha\n",
    "        self.regularize = regularize\n",
    "        \n",
    "        # set the epsilon value depending on the regularize case\n",
    "        if regularize:\n",
    "            self.epsilon = 1e-10\n",
    "        else:\n",
    "            self.epsilon = 1e-8\n",
    "    \n",
    "    def predict(self, new_features):\n",
    "        \"\"\"Make predictions using the result of the gradient descent\n",
    "        \n",
    "        Parameters\n",
    "        ----------\n",
    "        new_features : 2d sequence of float\n",
    "            The feature for which to predict the labels.\n",
    "            \n",
    "        Returns\n",
    "        -------\n",
    "        predicted_labels : 2d sequence of float\n",
    "            The predicted labels\n",
    "        \n",
    "        Notes\n",
    "        -----\n",
    "        The method fit must be called first.\n",
    "        \"\"\"\n",
    "        \n",
    "        if self.bias:\n",
    "            new_features = self._add_bias(new_features)\n",
    "        return self.hypothesis(new_features, self.parameters_)\n",
    "    \n",
    "    \n",
    "    def fit(self, features, label, parameters=None):\n",
    "        \"\"\"Find the optimal parameters\n",
    "        \n",
    "        Parameters\n",
    "        ----------\n",
    "        features : 2d sequence of float\n",
    "            The input parameters.\n",
    "        label : 2d sequence of float\n",
    "            The output parameters\n",
    "        parameters : 2d sequence of float\n",
    "            The initial guess for the descent gradient.\n",
    "        \"\"\"\n",
    "        # add bias or not\n",
    "        if self.bias:\n",
    "            features = self._add_bias(features)\n",
    "        \n",
    "        # if no initial parameters are given get some randomly\n",
    "        if parameters is None:\n",
    "            n = features.shape[1]\n",
    "            parameters = np.random.rand(n,1)\n",
    "    \n",
    "        # compute the initial prediction\n",
    "        predictions = self.hypothesis(features, parameters)\n",
    "        \n",
    "        # solve depending of the regularization or not\n",
    "        if self.regularize:\n",
    "            self.parameters_ = self._regularize_fit(features, label, parameters, predictions)\n",
    "        else:\n",
    "            self.parameters_ = self._classic_fit(features, label, parameters, predictions)\n",
    "         \n",
    "        \n",
    "    def _classic_fit(self, features, label, parameters, predictions):\n",
    "        \"\"\"Find the optimal parameters with classical method\n",
    "        \"\"\"\n",
    "\n",
    "        costFct = 0\n",
    "        costFctEvol = []\n",
    "        count = 0\n",
    "        # On utilise une boucle while\n",
    "        while self.testCostFct(predictions, label, costFct, self.epsilon):\n",
    "            count += 1\n",
    "            costFct = self.costFunction(predictions, label)\n",
    "            grads = self.gradients(predictions, label, features)\n",
    "            parameters = self.updateParameters(parameters, grads, self.alpha)\n",
    "            predictions = self.hypothesis(features, parameters)\n",
    "            if count % 1000 == 0:\n",
    "                print('%3i : cost function = {}'.format(costFct) % count)\n",
    "            costFctEvol.append(costFct)\n",
    "        print(\"\\nFinish: {} steps, cost function = {}\".format(count, costFct))\n",
    "        return parameters\n",
    "    \n",
    "    def _regularize_fit(self, features, label, parameters, predictions):\n",
    "        \"\"\"Find the optimal parameters with regularized method\n",
    "        \"\"\"\n",
    "\n",
    "        m = features.shape[0]\n",
    "        \n",
    "        lmb1 = 0.2\n",
    "        lmb2 = 0\n",
    "        \n",
    "        if self.regularize == 'rigde':\n",
    "            lmb2 = 0\n",
    "        if self.regularize == 'lasso':\n",
    "            lmb2 = 1\n",
    "        if self.regularize == 'elastic-net':\n",
    "            lmb2 = 0.4\n",
    "        print('lambda 2 est ',lmb2)\n",
    "        \n",
    "        \n",
    "        costFct = 0\n",
    "        costFctEvol = []\n",
    "        count = 0\n",
    "        while self.testRegCostFct(predictions, label, lmb1, lmb2, parameters, costFct, self.epsilon):\n",
    "            count += 1\n",
    "            costFct = self.regCostFunction(predictions, label, lmb1, lmb2, parameters)\n",
    "            grads = self.regGradients(predictions, label, features, lmb1, lmb2, parameters)\n",
    "            parameters = self.updateParameters(parameters, grads, self.alpha)\n",
    "            predictions = self.hypothesis(features, parameters)\n",
    "            if count % 10 == 0:\n",
    "                print('%3i : cost function = {}'.format(costFct) % count)\n",
    "            costFctEvol.append(costFct)\n",
    "        print(\"\\nFinish: {} steps, cost function = {}\".format(count, costFct))\n",
    "        return parameters\n",
    "    \n",
    "    def _add_bias(self, features):\n",
    "        \"\"\"Add bias column (1 vector)\n",
    "        \"\"\"\n",
    "        bias = np.ones(features.shape[0])\n",
    "        return np.column_stack([features, bias])\n",
    "        \n",
    "    def hypothesis(self, x, theta):\n",
    "        \"\"\"Compute our hypothesis model (linear regression), use a fonction:\n",
    "        \"\"\"\n",
    "        return np.dot(x, theta)\n",
    "    \n",
    "    def costFunction(self, yhat, y):\n",
    "        \"\"\"Fonction de coût\n",
    "        \"\"\"\n",
    "        return np.square(yhat - y).sum() / (2*y.shape[0])\n",
    "    \n",
    "    def regCostFunction(self, yhat, y, lmb1, lmb2, theta):\n",
    "        \"\"\"Fonction de coût régularisée\n",
    "        \"\"\"\n",
    "        return self.costFunction(yhat, y) + lmb1/((2*y.shape[0]) * np.square(theta)).sum()\n",
    "\n",
    "\n",
    "        return self.costFunction(yhat, y) + lmb1*(((1-lmb2)/2) * np.square(theta).sum() + lmb2(np.abs(theta)).sum())\n",
    "    \n",
    "    def gradients(self, yhat, y, x):\n",
    "        \"\"\"Dérivée de la fonction de coût == gradients\n",
    "        \"\"\"\n",
    "        return (((yhat - y) * x).sum(axis=0) / x.shape[0]).reshape(x.shape[1],1)\n",
    "\n",
    "    def regGradients(self, yhat, y, x, lmb1 ,lmb2 , theta):\n",
    "        \"\"\"Dérivée de la fonction de coût regularisée\n",
    "        \"\"\"\n",
    "        #return (((yhat - y) * x).sum(axis=0) / x.shape[0]).reshape(x.shape[1],1) + lmb1/x.shape[0]*theta\n",
    "\n",
    "        return (((yhat - y) * x).sum(axis=0) / x.shape[0]).reshape(x.shape[1],1) + (lmb1*(1-lmb2))/x.shape[0]*theta\n",
    "    \n",
    "    def updateParameters(self, parameters, grads, alpha):\n",
    "        \"\"\"Gradient descent: mise à jour des paramètres\n",
    "        \"\"\"\n",
    "        return parameters - alpha * grads\n",
    "\n",
    "    def testCostFct(self, yhat, y, prevCostFct, epsilon):\n",
    "        \"\"\" Fonction pour tester l'évolution de la fonction de coût: vrai = continuer la descente de gradient\n",
    "        \"\"\"\n",
    "        return np.abs(self.costFunction(yhat, y) - prevCostFct) >= epsilon*prevCostFct\n",
    "    \n",
    "    def testRegCostFct(self, yhat, y, lmb1, lmb2, theta, prevCostFct, epsilon):\n",
    "        \"\"\" Fonction pour tester l'évolution de la fonction de coût régularisée\n",
    "            \n",
    "            Returns\n",
    "            -------\n",
    "            test : bool\n",
    "                vrai = continuer la descente de gradient\n",
    "        \"\"\"\n",
    "        return np.abs(self.regCostFunction(yhat, y, lmb1, lmb2, theta) - prevCostFct) >= epsilon*prevCostFct\n",
    "    \n",
    "    def train_test_split(self, X, y, ratio=0.3, random_seed = 42):\n",
    "        \"\"\" Fonction pour subdiviser les donnees en donnees d'entrainement et donnees de test.\n",
    "        \n",
    "             Parametres\n",
    "            ----------\n",
    "            X : 2d sequence of float\n",
    "                The input parameters.\n",
    "            y : 2d sequence of float\n",
    "                The output parameters\n",
    "            ratio : La ratio du test set.\n",
    "            \n",
    "            Returns\n",
    "            -------\n",
    "            X_train : les features d'entrainement.\n",
    "            y_train : les labels d'entrainement.\n",
    "            X_test : les features de test.\n",
    "            y_test : les labels de test.\n",
    "            \n",
    "        \"\"\"\n",
    "        X_train = []\n",
    "        y_train = []\n",
    "        X_test = []\n",
    "        y_test = []\n",
    "        rows = len(X)\n",
    "        random.seed(random_seed)\n",
    "        test_index = random.sample(range(0,rows), int(rows*ratio))\n",
    "        for i in range(rows):\n",
    "            if i in test_index:\n",
    "                X_test.append(X[i])\n",
    "                y_test.append(y[i])\n",
    "            else:\n",
    "                X_train.append(X[i])\n",
    "                y_train.append(y[i])\n",
    "        return np.array(X_train), np.array(y_train), np.array(X_test), np.array(y_test)\n",
    "        "
   ]
  },
  {
   "cell_type": "code",
   "execution_count": 610,
   "id": "1d3e4bff",
   "metadata": {},
   "outputs": [],
   "source": [
    "g = GradientDescent(regularize = 'ridge',alpha = 0.03)"
   ]
  },
  {
   "cell_type": "code",
   "execution_count": 611,
   "id": "e8a73587",
   "metadata": {},
   "outputs": [],
   "source": [
    "import numpy as np \n",
    "import pandas as pd\n",
    "np.random.seed(67)"
   ]
  },
  {
   "cell_type": "code",
   "execution_count": 612,
   "id": "d4501ad8",
   "metadata": {},
   "outputs": [],
   "source": [
    "X = 3 * np.random.rand(100, 1) - 2\n",
    "Y = 2*X + 7 + np.random.randn(100, 1)"
   ]
  },
  {
   "cell_type": "code",
   "execution_count": 613,
   "id": "00c62d08",
   "metadata": {},
   "outputs": [],
   "source": [
    "df  = pd.read_csv('housing.csv')"
   ]
  },
  {
   "cell_type": "code",
   "execution_count": 614,
   "id": "c3466756",
   "metadata": {},
   "outputs": [],
   "source": [
    "X_train, y_train, X_test, y_test = g.train_test_split(X,Y,ratio=0.3,random_seed=44)"
   ]
  },
  {
   "cell_type": "code",
   "execution_count": 615,
   "id": "9dda8d49",
   "metadata": {},
   "outputs": [],
   "source": [
    "import matplotlib.pyplot as plt"
   ]
  },
  {
   "cell_type": "code",
   "execution_count": 616,
   "id": "51db53a0",
   "metadata": {
    "scrolled": true
   },
   "outputs": [
    {
     "data": {
      "text/plain": [
       "Text(0, 0.5, 'Labels')"
      ]
     },
     "execution_count": 616,
     "metadata": {},
     "output_type": "execute_result"
    },
    {
     "data": {
      "image/png": "[encoded data removed]",
      "text/plain": [
       "<Figure size 432x288 with 1 Axes>"
      ]
     },
     "metadata": {
      "needs_background": "light"
     },
     "output_type": "display_data"
    }
   ],
   "source": [
    "plt.figure()\n",
    "plt.scatter(X,Y,alpha = 0.7)\n",
    "plt.xlabel('Features')\n",
    "plt.ylabel('Labels')"
   ]
  },
  {
   "cell_type": "code",
   "execution_count": 617,
   "id": "9342132a",
   "metadata": {},
   "outputs": [
    {
     "name": "stdout",
     "output_type": "stream",
     "text": [
      "lambda 2 est  0\n",
      " 10 : cost function = 9.266436012375344\n",
      " 20 : cost function = 6.03804175919867\n",
      " 30 : cost function = 4.28601408429867\n",
      " 40 : cost function = 3.2090338340715183\n",
      " 50 : cost function = 2.4841086247062725\n",
      " 60 : cost function = 1.9684317710130903\n",
      " 70 : cost function = 1.5904161566465078\n",
      " 80 : cost function = 1.3090163379241457\n",
      " 90 : cost function = 1.097917296346457\n",
      "100 : cost function = 0.9389366747876795\n",
      "110 : cost function = 0.8189578753471605\n",
      "120 : cost function = 0.728301489988438\n",
      "130 : cost function = 0.6597426207419964\n",
      "140 : cost function = 0.6078579619926529\n",
      "150 : cost function = 0.5685651220826847\n",
      "160 : cost function = 0.5387866433288406\n",
      "170 : cost function = 0.5162007634607614\n",
      "180 : cost function = 0.4990549562344625\n",
      "190 : cost function = 0.4860258591082065\n",
      "200 : cost function = 0.4761138327346897\n",
      "210 : cost function = 0.4685635078206327\n",
      "220 : cost function = 0.4628038813284573\n",
      "230 : cost function = 0.458403137163853\n",
      "240 : cost function = 0.45503456435846146\n",
      "250 : cost function = 0.4524508421062666\n",
      "260 : cost function = 0.4504646342767759\n",
      "270 : cost function = 0.4489339426694617\n",
      "280 : cost function = 0.44775104988301895\n",
      "290 : cost function = 0.44683417024398575\n",
      "300 : cost function = 0.44612114400236313\n",
      "310 : cost function = 0.44556467341762246\n",
      "320 : cost function = 0.4451287225692361\n",
      "330 : cost function = 0.4447857956308678\n",
      "340 : cost function = 0.4445148784059067\n",
      "350 : cost function = 0.44429988075599336\n",
      "360 : cost function = 0.4441284574012785\n",
      "370 : cost function = 0.44399111462590546\n",
      "380 : cost function = 0.44388053309295433\n",
      "390 : cost function = 0.44379105407558245\n",
      "400 : cost function = 0.44371828931431\n",
      "410 : cost function = 0.44365882444658444\n",
      "420 : cost function = 0.4436099933022214\n",
      "430 : cost function = 0.4435697059039836\n",
      "440 : cost function = 0.4435363171990097\n",
      "450 : cost function = 0.4435085267078209\n",
      "460 : cost function = 0.44348530166492\n",
      "470 : cost function = 0.44346581802844787\n",
      "480 : cost function = 0.44344941509914154\n",
      "490 : cost function = 0.4434355605190071\n",
      "500 : cost function = 0.44342382319914875\n",
      "510 : cost function = 0.4434138523155959\n",
      "520 : cost function = 0.44340536095810595\n",
      "530 : cost function = 0.4433981133548473\n",
      "540 : cost function = 0.4433919148519766\n",
      "550 : cost function = 0.4433866040213871\n",
      "560 : cost function = 0.44338204641739953\n",
      "570 : cost function = 0.44337812961522727\n",
      "580 : cost function = 0.443374759249327\n",
      "590 : cost function = 0.44337185583469446\n",
      "600 : cost function = 0.4433693522037165\n",
      "610 : cost function = 0.4433671914290535\n",
      "620 : cost function = 0.4433653251320102\n",
      "630 : cost function = 0.4433637120980799\n",
      "640 : cost function = 0.4433623171384473\n",
      "650 : cost function = 0.4433611101493973\n",
      "660 : cost function = 0.44336006533176636\n",
      "670 : cost function = 0.44335916054045843\n",
      "680 : cost function = 0.44335837674018636\n",
      "690 : cost function = 0.44335769754839455\n",
      "700 : cost function = 0.4433571088500633\n",
      "710 : cost function = 0.44335659847205583\n",
      "720 : cost function = 0.44335615590699773\n",
      "730 : cost function = 0.44335577207852994\n",
      "740 : cost function = 0.4433554391412571\n",
      "750 : cost function = 0.44335515030988876\n",
      "760 : cost function = 0.443354899713033\n",
      "770 : cost function = 0.4433546822678623\n",
      "780 : cost function = 0.44335449357250994\n",
      "790 : cost function = 0.44335432981355616\n",
      "800 : cost function = 0.44335418768639634\n",
      "810 : cost function = 0.4433540643266172\n",
      "820 : cost function = 0.44335395725080906\n",
      "830 : cost function = 0.44335386430546864\n",
      "840 : cost function = 0.44335378362285804\n",
      "850 : cost function = 0.4433537135828461\n",
      "860 : cost function = 0.443353652779904\n",
      "870 : cost function = 0.4433535999945418\n",
      "880 : cost function = 0.44335355416858335\n",
      "890 : cost function = 0.4433535143837496\n",
      "900 : cost function = 0.44335347984310536\n",
      "910 : cost function = 0.44335344985498054\n",
      "920 : cost function = 0.4433534238190333\n",
      "930 : cost function = 0.4433534012141653\n",
      "940 : cost function = 0.4433533815880436\n",
      "950 : cost function = 0.4433533645480115\n",
      "960 : cost function = 0.44335334975320534\n",
      "970 : cost function = 0.44335333690771384\n",
      "980 : cost function = 0.44335332575464464\n",
      "990 : cost function = 0.4433533160709739\n",
      "1000 : cost function = 0.44335330766307846\n",
      "1010 : cost function = 0.44335330036285664\n",
      "1020 : cost function = 0.4433532940243628\n",
      "1030 : cost function = 0.4433532885208854\n",
      "1040 : cost function = 0.443353283742411\n",
      "1050 : cost function = 0.44335327959342297\n",
      "1060 : cost function = 0.44335327599099084\n",
      "1070 : cost function = 0.44335327286311116\n",
      "1080 : cost function = 0.44335327014726694\n",
      "1090 : cost function = 0.4433532677891784\n",
      "1100 : cost function = 0.44335326574171663\n",
      "1110 : cost function = 0.44335326396396196\n",
      "1120 : cost function = 0.44335326242038525\n",
      "1130 : cost function = 0.4433532610801387\n",
      "1140 : cost function = 0.44335325991643704\n",
      "1150 : cost function = 0.44335325890602467\n",
      "1160 : cost function = 0.44335325802870895\n",
      "1170 : cost function = 0.44335325726695757\n",
      "1180 : cost function = 0.44335325660554753\n",
      "1190 : cost function = 0.44335325603126136\n",
      "1200 : cost function = 0.4433532555326226\n",
      "\n",
      "Finish: 1203 steps, cost function = 0.44335325539625636\n"
     ]
    }
   ],
   "source": [
    "g.fit(X,Y)"
   ]
  },
  {
   "cell_type": "code",
   "execution_count": 618,
   "id": "0a2c7ede",
   "metadata": {},
   "outputs": [
    {
     "data": {
      "text/plain": [
       "array([[1.93054252],\n",
       "       [6.88774155]])"
      ]
     },
     "execution_count": 618,
     "metadata": {},
     "output_type": "execute_result"
    }
   ],
   "source": [
    "g.parameters_"
   ]
  },
  {
   "cell_type": "code",
   "execution_count": 619,
   "id": "4910cf85",
   "metadata": {},
   "outputs": [],
   "source": [
    "slope , intercept = g.parameters_[0][0],  g.parameters_[1][0]"
   ]
  },
  {
   "cell_type": "code",
   "execution_count": 608,
   "id": "f83e70ed",
   "metadata": {},
   "outputs": [
    {
     "data": {
      "text/plain": [
       "1.9367548516946604"
      ]
     },
     "execution_count": 608,
     "metadata": {},
     "output_type": "execute_result"
    }
   ],
   "source": [
    "slope"
   ]
  },
  {
   "cell_type": "code",
   "execution_count": 609,
   "id": "aef8c761",
   "metadata": {},
   "outputs": [
    {
     "data": {
      "text/plain": [
       "Text(0, 0.5, 'Labels')"
      ]
     },
     "execution_count": 609,
     "metadata": {},
     "output_type": "execute_result"
    },
    {
     "data": {
      "image/png": "[encoded data removed]",
      "text/plain": [
       "<Figure size 432x288 with 1 Axes>"
      ]
     },
     "metadata": {
      "needs_background": "light"
     },
     "output_type": "display_data"
    }
   ],
   "source": [
    "plt.figure()\n",
    "plt.scatter(X,Y,alpha = 0.7)\n",
    "plt.plot(X,X*slope+intercept, color = 'red')\n",
    "plt.xlabel('Features')\n",
    "plt.ylabel('Labels')"
   ]
  },
  {
   "cell_type": "code",
   "execution_count": null,
   "id": "fbb1db45",
   "metadata": {},
   "outputs": [],
   "source": []
  }
 ],
 "metadata": {
  "kernelspec": {
   "display_name": "Python 3",
   "language": "python",
   "name": "python3"
  },
  "language_info": {
   "codemirror_mode": {
    "name": "ipython",
    "version": 3
   },
   "file_extension": ".py",
   "mimetype": "text/x-python",
   "name": "python",
   "nbconvert_exporter": "python",
   "pygments_lexer": "ipython3",
   "version": "3.8.8"
  }
 },
 "nbformat": 4,
 "nbformat_minor": 5
}
