{
 "cells": [
  {
   "cell_type": "code",
   "execution_count": 912,
   "id": "b46a75a2",
   "metadata": {},
   "outputs": [],
   "source": [
    "# import numpy as np\n",
    "# import random\n",
    "\n",
    "\n",
    "# class GradientDescent():\n",
    "    \n",
    "#     \"\"\"Descent gradient class with regularize technique\n",
    "    \n",
    "#     Parameters\n",
    "#     ----------\n",
    "#     regularize : bool\n",
    "#         If True, the regularization is used.\n",
    "#     bias : bool\n",
    "#         If the True, a bias is added to the features.\n",
    "#     alpha : float > 0\n",
    "#         Coefficient for the step when updating the parameters.\n",
    "    \n",
    "#     Notes\n",
    "#     -----\n",
    "#     This class aims at computing the parameters of a linear model using\n",
    "#     a descent gradient method with or without regularization.\n",
    "#     \"\"\"\n",
    "    \n",
    "#     def __init__(self, regularize=False, bias=True, alpha=3e-9, iterations=30000):\n",
    "#         self.bias = bias\n",
    "#         if alpha < 0:\n",
    "#             raise ValueError('Alpha parameter must be > 0. Here {}.'.format(alpha))\n",
    "#         self.alpha = alpha\n",
    "#         self.iterations = iterations\n",
    "#         self.regularize = regularize\n",
    "        \n",
    "#         #set the epsilon value depending on the regularize case\n",
    "#         if regularize:\n",
    "#             self.epsilon = 1e-10\n",
    "#         else:\n",
    "#             self.epsilon = 1e-8\n",
    "    \n",
    "#     def predict(self, new_features):\n",
    "#         \"\"\"Make predictions using the result of the gradient descent\n",
    "        \n",
    "#         Parameters\n",
    "#         ----------\n",
    "#         new_features : 2d sequence of float\n",
    "#             The feature for which to predict the labels.\n",
    "            \n",
    "#         Returns\n",
    "#         -------\n",
    "#         predicted_labels : 2d sequence of float\n",
    "#             The predicted labels\n",
    "        \n",
    "#         Notes\n",
    "#         -----\n",
    "#         The method fit must be called first.\n",
    "#         \"\"\"\n",
    "        \n",
    "#         if self.bias:\n",
    "#             new_features = self._add_bias(new_features)\n",
    "#         return self.hypothesis(new_features, self.parameters_)\n",
    "    \n",
    "    \n",
    "#     def fit(self, features, label, parameters=None):\n",
    "#         \"\"\"Find the optimal parameters\n",
    "        \n",
    "#         Parameters\n",
    "#         ----------\n",
    "#         features : 2d sequence of float\n",
    "#             The input parameters.\n",
    "#         label : 2d sequence of float\n",
    "#             The output parameters\n",
    "#         parameters : 2d sequence of float\n",
    "#             The initial guess for the descent gradient.\n",
    "#         \"\"\"\n",
    "#         # add bias or not\n",
    "#         if self.bias:\n",
    "#             features = self._add_bias(features)\n",
    "        \n",
    "#         # if no initial parameters are given get some randomly\n",
    "#         if parameters is None:\n",
    "#             n = features.shape[1]\n",
    "#             parameters = np.random.rand(n,1)\n",
    "    \n",
    "#         # compute the initial prediction\n",
    "#         predictions = self.hypothesis(features, parameters)\n",
    "        \n",
    "#         # solve depending of the regularization or not\n",
    "#         self.parameters_ = self._regularize_fit(features, label, parameters, predictions)\n",
    "\n",
    "    \n",
    "#     def _regularize_fit(self, features, label, parameters, predictions):\n",
    "#         \"\"\"Find the optimal parameters with regularized method\n",
    "#         \"\"\"\n",
    "\n",
    "#         m = features.shape[0]\n",
    "        \n",
    "#         lmb1 = 0.2\n",
    "#         if self.regularize == False:\n",
    "#             lmb1 = 0\n",
    "#         lmb2 = 0\n",
    "        \n",
    "#         if self.regularize == 'rigde':\n",
    "#             lmb2 = 0\n",
    "#         if self.regularize == 'lasso':\n",
    "#             lmb2 = 1\n",
    "#         if self.regularize == 'elastic-net':\n",
    "#             lmb2 = 0.4\n",
    "#         print('lambda 1 est ',lmb1)\n",
    "#         print('lambda 2 est ',lmb2)\n",
    "        \n",
    "        \n",
    "#         costFct = 0\n",
    "#         costFctEvol = []\n",
    "#         count = 0\n",
    "#         while self.testRegCostFct(predictions, label, lmb1, lmb2, parameters, costFct, self.epsilon):\n",
    "#             count += 1\n",
    "#             costFct = self.regCostFunction(predictions, label, lmb1, lmb2, parameters)\n",
    "#             grads = self.regGradients(predictions, label, features, lmb1, lmb2, parameters)\n",
    "#             parameters = self.updateParameters(parameters, grads, self.alpha)\n",
    "#             predictions = self.hypothesis(features, parameters)\n",
    "#             costFctEvol.append(costFct)\n",
    "            \n",
    "#         plt.xlabel('Iterations')\n",
    "#         plt.ylabel('Fonction cout')\n",
    "#         plt.title('Evolution de la fonction cout en fonctions des iterations')\n",
    "#         plt.plot(costFctEvol)\n",
    "#         return parameters\n",
    "    \n",
    "#     def _add_bias(self, features):\n",
    "#         \"\"\"Add bias column (1 vector)\n",
    "#         \"\"\"\n",
    "#         bias = np.ones(features.shape[0])\n",
    "#         return np.column_stack([features, bias])\n",
    "        \n",
    "#     def hypothesis(self, x, theta):\n",
    "#         \"\"\"Compute our hypothesis model (linear regression), use a fonction:\n",
    "#         \"\"\"\n",
    "#         return np.dot(x, theta)\n",
    "    \n",
    "#     def costFunction(self, yhat, y):\n",
    "#         \"\"\"Fonction de coût\n",
    "#         \"\"\"\n",
    "#         return np.square(yhat - y).sum() / (2*y.shape[0])\n",
    "    \n",
    "#     def regCostFunction(self, yhat, y, lmb1, lmb2, theta):\n",
    "#         \"\"\"Fonction de coût régularisée\n",
    "#         \"\"\"\n",
    "#         #return self.costFunction(yhat, y) + lmb1/((2*y.shape[0]) * np.square(theta)).sum()\n",
    "\n",
    "\n",
    "#         return self.costFunction(yhat, y) + lmb1*(((1-lmb2)/2) * np.square(theta).sum() + lmb2*(np.abs(theta)).sum())\n",
    "    \n",
    "#     def gradients(self, yhat, y, x):\n",
    "#         \"\"\"Dérivée de la fonction de coût == gradients\n",
    "#         \"\"\"\n",
    "        \n",
    "#         return (((yhat - y) * x).sum(axis=0) / x.shape[0]).reshape(x.shape[1],1)\n",
    "\n",
    "#     def regGradients(self, yhat, y, x, lmb1 ,lmb2 , theta):\n",
    "#         \"\"\"Dérivée de la fonction de coût regularisée\n",
    "#         \"\"\"\n",
    "#         #return (((yhat - y) * x).sum(axis=0) / x.shape[0]).reshape(x.shape[1],1) + lmb1/x.shape[0]*theta\n",
    "\n",
    "#         return (((yhat - y) * x).sum(axis=0) / x.shape[0]).reshape(x.shape[1],1) + (lmb1*(1-lmb2))/x.shape[0]*theta\n",
    "    \n",
    "#     def updateParameters(self, parameters, grads, alpha):\n",
    "#         \"\"\"Gradient descent: mise à jour des paramètres\n",
    "#         \"\"\"\n",
    "#         return parameters - alpha * grads\n",
    "    \n",
    "#     def testRegCostFct(self, yhat, y, lmb1, lmb2, theta, prevCostFct, epsilon):\n",
    "#         \"\"\" Fonction pour tester l'évolution de la fonction de coût régularisée\n",
    "            \n",
    "#             Returns\n",
    "#             -------\n",
    "#             test : bool\n",
    "#                 vrai = continuer la descente de gradient\n",
    "#         \"\"\"\n",
    "#         return np.abs(self.regCostFunction(yhat, y, lmb1, lmb2, theta) - prevCostFct) >= epsilon*prevCostFct\n",
    "    \n",
    "#     def train_test_split(self, X, y, ratio=0.3, random_seed = 42):\n",
    "#         \"\"\" Fonction pour subdiviser les donnees en donnees d'entrainement et donnees de test.\n",
    "        \n",
    "#              Parametres\n",
    "#             ----------\n",
    "#             X : 2d sequence of float\n",
    "#                 The input parameters.\n",
    "#             y : 2d sequence of float\n",
    "#                 The output parameters\n",
    "#             ratio : La ratio du test set.\n",
    "            \n",
    "#             Returns\n",
    "#             -------\n",
    "#             X_train : les features d'entrainement.\n",
    "#             y_train : les labels d'entrainement.\n",
    "#             X_test : les features de test.\n",
    "#             y_test : les labels de test.\n",
    "            \n",
    "#         \"\"\"\n",
    "#         X_train = []\n",
    "#         y_train = []\n",
    "#         X_test = []\n",
    "#         y_test = []\n",
    "#         rows = len(X)\n",
    "#         random.seed(random_seed)\n",
    "#         test_index = random.sample(range(0,rows), int(rows*ratio))\n",
    "#         for i in range(rows):\n",
    "#             if i in test_index:\n",
    "#                 X_test.append(X[i])\n",
    "#                 y_test.append(y[i])\n",
    "#             else:\n",
    "#                 X_train.append(X[i])\n",
    "#                 y_train.append(y[i])\n",
    "#         return np.array(X_train), np.array(y_train), np.array(X_test), np.array(y_test)\n",
    "    \n",
    "#     def mae(self, y, y_pred) :\n",
    "#         return np.abs(y_pred - y).sum() / (2*y.shape[0])\n",
    "    \n",
    "#     def rmse(self, y, y_pred) :\n",
    "#         return np.sqrt(np.square(y_pred - y).sum() / (2*y.shape[0]))\n",
    "    \n",
    "#     def r2_score(self, y, y_pred) :\n",
    "#         return 1 - (np.square(y_pred - y).sum() / np.square(y_pred - np.mean(y)).sum())\n",
    "        "
   ]
  },
  {
   "cell_type": "code",
   "execution_count": 1391,
   "id": "48ae855c",
   "metadata": {},
   "outputs": [],
   "source": [
    "import numpy as np\n",
    "import random\n",
    "\n",
    "\n",
    "class GradientDescent():\n",
    "    \n",
    "    \"\"\"Ce module permet d'implementer une descente de gradient.\n",
    "    \n",
    "    Parametres\n",
    "    ----------\n",
    "    regularize : valeur possible (False, rigde, lasso, elasticNet)\n",
    "        False : effectue une descente de gradient classique sans regularisation.\n",
    "        rigde : effectue une descente de gradient avec regularisation Rigde.\n",
    "        lasso : effectue une descente de gradient avec regularisation Lasso.\n",
    "        elasticNet : permet d'effectuer une descente de gradient avec regularisation ElasticNet.\n",
    "    bias : bool\n",
    "        Si True, ajoute le biais sur les features.\n",
    "    learning_rate : float > 0\n",
    "        contitue le pas lors de la mise a jour des parametres.\n",
    "    \n",
    "    Notes\n",
    "    -----\n",
    "    Cette classe vise à calculer les paramètres d'un modèle linéaire en utilisant\n",
    "    une méthode de descente de gradient avec ou sans régularisation..\n",
    "    \"\"\"\n",
    "    \n",
    "    def __init__(self, regularize=False, bias=True, learning_rate=3e-9, normalize = False):\n",
    "        self.bias = bias\n",
    "        if learning_rate < 0:\n",
    "            raise ValueError('learning_rate parameter must be > 0. Here {}.'.format(learning_rate))\n",
    "        self.learning_rate = learning_rate\n",
    "        self.regularize = regularize\n",
    "        self.lamda = 0\n",
    "        self.alpha = 0\n",
    "        self.normalize = normalize\n",
    "        \n",
    "        \n",
    "        if self.regularize:    \n",
    "            self.epsilon = 1e-10\n",
    "            if self.regularize == 'rigde':\n",
    "                self.alpha = 0\n",
    "            elif self.regularize == 'lasso':\n",
    "                self.alpha = 1\n",
    "            elif self.regularize == 'elasticNet':\n",
    "                self.alpha = 0.4\n",
    "            else :\n",
    "                raise ValueError(\"le parametre 'regularize' ne peut prendre que : 'False', 'ridge', 'lasso', 'elasticNet'\")\n",
    "        else:\n",
    "            self.epsilon = 1e-8\n",
    "            self.lamda = 0\n",
    "            self.alpha = 0\n",
    "    \n",
    "    def predict(self, new_features):\n",
    "        \"\"\"Faire des prédictions en utilisant le résultat de la descente de gradient.\n",
    "        \n",
    "        Paramètres\n",
    "        ----------\n",
    "        new_features : matrice de flottants.\n",
    "            La caractéristique pour laquelle il faut prédire les étiquettes.\n",
    "            \n",
    "        Return\n",
    "        -------\n",
    "        predicted_labels : matrice de flottants.\n",
    "            les predictions du modele\n",
    "        \n",
    "        Notes\n",
    "        -----\n",
    "        La méthode fit doit être appelée en premier.\n",
    "        \"\"\"\n",
    "        \n",
    "        if self.bias:\n",
    "            new_features = self._add_bias(new_features)\n",
    "        return self.hypothesis(new_features, self.parameters_)\n",
    "    \n",
    "    \n",
    "    def fit(self, features, label, parameters=None):\n",
    "        \"\"\"Find the optimal parameters\n",
    "        \n",
    "        Parametres\n",
    "        ----------\n",
    "        features : matrice de flottants.\n",
    "            Les donnees d'entrainements.\n",
    "        label : matrice de flottants ou vecteur.\n",
    "            Le etiquettes des donnees d'entrainements.\n",
    "        parameters : matrice de flottants ou vecteur.\n",
    "            Les parametres du modele.\n",
    "        \"\"\"\n",
    "        \n",
    "        if self.normalize:\n",
    "            features = self.standardScaler(features)\n",
    "        # add bias or not\n",
    "        if self.bias:\n",
    "            features = self._add_bias(features)\n",
    "        \n",
    "        # if no initial parameters are given get some randomly\n",
    "        if parameters is None:\n",
    "            n = features.shape[1]\n",
    "            parameters = np.random.rand(n,1)\n",
    "    \n",
    "        # compute the initial prediction\n",
    "        predictions = self.hypothesis(features, parameters)\n",
    "        \n",
    "        # solve depending of the regularization or not\n",
    "        self.parameters_ = self._fit(features, label, parameters, predictions)\n",
    "\n",
    "    \n",
    "    def _fit(self, features, label, parameters, predictions):\n",
    "        \"\"\"Trouver les paramètres optimaux\n",
    "        \"\"\"\n",
    "\n",
    "        m = features.shape[0]\n",
    "\n",
    "        \n",
    "        \n",
    "        costFct = 0\n",
    "        costFctEvol = []\n",
    "        count = 0\n",
    "        while self.testCostFct(predictions, label, self.lamda, self.alpha, parameters, costFct, self.epsilon):\n",
    "            count += 1\n",
    "            costFct = self.costFunction(predictions, label, self.lamda, self.alpha, parameters)\n",
    "            grads = self.gradients(predictions, label, features, self.lamda, self.alpha, parameters)\n",
    "            parameters = self.updateParameters(parameters, grads, self.learning_rate)\n",
    "            predictions = self.hypothesis(features, parameters)\n",
    "            costFctEvol.append(costFct)\n",
    "            \n",
    "        plt.xlabel('Iterations')\n",
    "        plt.ylabel('Fonction cout')\n",
    "        plt.title('Evolution de la fonction cout en fonctions des iterations')\n",
    "        plt.plot(costFctEvol)\n",
    "        return parameters\n",
    "    \n",
    "    def _add_bias(self, features):\n",
    "        \"\"\"Ajouter une colonne de bias (1 vecteur)\n",
    "        \"\"\"\n",
    "        bias = np.ones(features.shape[0])\n",
    "        return np.column_stack([features, bias])\n",
    "        \n",
    "    def hypothesis(self, x, theta):\n",
    "        \"\"\"Calculer notre modèle d'hypothèse (régression linéaire), utiliser une fonction :\n",
    "        \"\"\"\n",
    "        return np.dot(x, theta)\n",
    "    \n",
    "    def _costFunction(self, yhat, y):\n",
    "        \"\"\"Fonction de coût\n",
    "        \"\"\"\n",
    "        return np.square(yhat - y).sum() / (2*y.shape[0])\n",
    "    def costFunction(self, yhat, y, lamda, alpha, theta):\n",
    "        \"\"\"Fonction de coût avec ou sans régularisée selon les parametres.\n",
    "        \"\"\"\n",
    "        return self._costFunction(yhat, y) + lamda*(((1-alpha)/2) * np.square(theta).sum() + alpha*(np.abs(theta)).sum())\n",
    "    \n",
    "\n",
    "\n",
    "    def gradients(self, yhat, y, x, lamda ,alpha , theta):\n",
    "        \"\"\"Dérivée de la fonction de coût\n",
    "        \"\"\"\n",
    "\n",
    "        return (((yhat - y) * x).sum(axis=0) / x.shape[0]).reshape(x.shape[1],1) + (lamda*(1-alpha))/x.shape[0]*theta\n",
    "    \n",
    "    def updateParameters(self, parameters, grads, learning_rate):\n",
    "        \"\"\"Gradient descent: mise à jour des paramètres\n",
    "        \"\"\"\n",
    "        return parameters - learning_rate * grads\n",
    "    \n",
    "    def testCostFct(self, yhat, y, lamda, alpha, theta, prevCostFct, epsilon):\n",
    "        \"\"\" Fonction pour tester l'évolution de la fonction de coût régularisée\n",
    "            \n",
    "            Returns\n",
    "            -------\n",
    "            test : bool\n",
    "                vrai = continuer la descente de gradient\n",
    "        \"\"\"\n",
    "        return np.abs(self.costFunction(yhat, y, lamda, alpha, theta) - prevCostFct) >= epsilon*prevCostFct\n",
    "    \n",
    "    def train_test_split(self, X, y, ratio=0.3, random_seed = 42):\n",
    "        \"\"\" Fonction pour subdiviser les donnees en donnees d'entrainement et donnees de test.\n",
    "        \n",
    "             Parametres\n",
    "            ----------\n",
    "            X : matrice de flottants.\n",
    "            Les donnees d'entrainements.\n",
    "            \n",
    "            y : matrice de flottants ou vecteur.\n",
    "            Le etiquettes des donnees d'entrainements.\n",
    "            \n",
    "            ratio : La ratio du test set.\n",
    "            \n",
    "            Returns\n",
    "            -------\n",
    "            X_train : les features d'entrainement.\n",
    "            y_train : les labels d'entrainement.\n",
    "            X_test : les features de test.\n",
    "            y_test : les labels de test.\n",
    "            \n",
    "        \"\"\"\n",
    "        X_train = []\n",
    "        y_train = []\n",
    "        X_test = []\n",
    "        y_test = []\n",
    "        rows = len(X)\n",
    "        random.seed(random_seed)\n",
    "        test_index = random.sample(range(0,rows), int(rows*ratio))\n",
    "        for i in range(rows):\n",
    "            if i in test_index:\n",
    "                X_test.append(X[i])\n",
    "                y_test.append(y[i])\n",
    "            else:\n",
    "                X_train.append(X[i])\n",
    "                y_train.append(y[i])\n",
    "        return np.array(X_train), np.array(y_train), np.array(X_test), np.array(y_test)\n",
    "    \n",
    "    def mae(self, y, y_pred) :\n",
    "        \"\"\" Fonction determiner le score Mean Absolute Error.\n",
    "        \n",
    "             Parametres\n",
    "            ----------\n",
    "            y : matrice de flottants ou vecteur.\n",
    "                Le etiquettes des donnees d'entrainements.\n",
    "            y_pred : matrice de flottants ou vecteur.\n",
    "                    valeurs predites par le modele.\n",
    "            \n",
    "            \n",
    "            Returns\n",
    "            -------\n",
    "            score : flottant.\n",
    "                le score par la metric Mean Absolute Error.\n",
    "            \n",
    "        \"\"\"\n",
    "        return np.abs(y_pred - y).sum() / (2*y.shape[0])\n",
    "    \n",
    "    def rmse(self, y, y_pred) :\n",
    "        \n",
    "        \"\"\" Fonction determiner le score Root Mean Squared Error.\n",
    "        \n",
    "             Parametres\n",
    "            ----------\n",
    "            y : matrice de flottants ou vecteur.\n",
    "                Le etiquettes des donnees d'entrainements.\n",
    "            y_pred : matrice de flottants ou vecteur.\n",
    "                    valeurs predites par le modele.\n",
    "            \n",
    "            \n",
    "            Returns\n",
    "            -------\n",
    "            score : flottant.\n",
    "                le score par la metric Root Mean Squared Error.\n",
    "            \n",
    "        \"\"\"\n",
    "        return np.sqrt(np.square(y_pred - y).sum() / (2*y.shape[0]))\n",
    "    \n",
    "    def r2_score(self, y, y_pred) :\n",
    "        \"\"\" Fonction determiner le score Coefficient de determination R2.\n",
    "        \n",
    "             Parametres\n",
    "            ----------\n",
    "            y : matrice de flottants ou vecteur.\n",
    "                Le etiquettes des donnees d'entrainements.\n",
    "            y_pred : matrice de flottants ou vecteur.\n",
    "                    valeurs predites par le modele.\n",
    "            \n",
    "            \n",
    "            Returns\n",
    "            -------\n",
    "            score : flottant.\n",
    "                le score par la metric Coefficient de determination R2.\n",
    "            \n",
    "        \"\"\"\n",
    "        return 1 - (np.square(y_pred - y).sum() / np.square(y_pred - np.mean(y)).sum())\n",
    "    \n",
    "    def standardScaler(self, X):\n",
    "        \n",
    "        \"\"\" Fonction determiner le score Coefficient de determination R2.\n",
    "        \n",
    "             Parametres\n",
    "            ----------\n",
    "            X : matrice de flottants.\n",
    "                les donnees d'entrainements a normaliser.\n",
    "            \n",
    "            Returns\n",
    "            -------\n",
    "             X : matrice de flottants.\n",
    "                les donnees normalisees ( centrees reduites ).\n",
    "            \n",
    "        \"\"\"\n",
    "        return np.array((X - X.mean(axis=0)) / (X.std(axis=0)))\n",
    "                        \n",
    "        "
   ]
  },
  {
   "cell_type": "code",
   "execution_count": 1396,
   "id": "984814e8",
   "metadata": {},
   "outputs": [],
   "source": [
    "g = GradientDescent(regularize = 'elasticNet',learning_rate = 0.03, normalize = False)"
   ]
  },
  {
   "cell_type": "code",
   "execution_count": 1397,
   "id": "edeb9cc1",
   "metadata": {},
   "outputs": [],
   "source": [
    "import numpy as np \n",
    "import pandas as pd\n",
    "np.random.seed(67)"
   ]
  },
  {
   "cell_type": "code",
   "execution_count": 1398,
   "id": "8b43cf91",
   "metadata": {},
   "outputs": [],
   "source": [
    "X = 3 * np.random.rand(100, 1) - 2\n",
    "Y = 2*X + 7 + np.random.randn(100, 1)"
   ]
  },
  {
   "cell_type": "code",
   "execution_count": 1399,
   "id": "7b341842",
   "metadata": {},
   "outputs": [
    {
     "data": {
      "text/html": [
       "<div>\n",
       "<style scoped>\n",
       "    .dataframe tbody tr th:only-of-type {\n",
       "        vertical-align: middle;\n",
       "    }\n",
       "\n",
       "    .dataframe tbody tr th {\n",
       "        vertical-align: top;\n",
       "    }\n",
       "\n",
       "    .dataframe thead th {\n",
       "        text-align: right;\n",
       "    }\n",
       "</style>\n",
       "<table border=\"1\" class=\"dataframe\">\n",
       "  <thead>\n",
       "    <tr style=\"text-align: right;\">\n",
       "      <th></th>\n",
       "      <th>longitude</th>\n",
       "      <th>latitude</th>\n",
       "      <th>housing_median_age</th>\n",
       "      <th>total_rooms</th>\n",
       "      <th>total_bedrooms</th>\n",
       "      <th>population</th>\n",
       "      <th>households</th>\n",
       "      <th>median_income</th>\n",
       "      <th>median_house_value</th>\n",
       "      <th>ocean_proximity</th>\n",
       "    </tr>\n",
       "  </thead>\n",
       "  <tbody>\n",
       "    <tr>\n",
       "      <th>0</th>\n",
       "      <td>-122.23</td>\n",
       "      <td>37.88</td>\n",
       "      <td>41.0</td>\n",
       "      <td>880.0</td>\n",
       "      <td>129.0</td>\n",
       "      <td>322.0</td>\n",
       "      <td>126.0</td>\n",
       "      <td>8.3252</td>\n",
       "      <td>452600.0</td>\n",
       "      <td>NEAR BAY</td>\n",
       "    </tr>\n",
       "    <tr>\n",
       "      <th>1</th>\n",
       "      <td>-122.22</td>\n",
       "      <td>37.86</td>\n",
       "      <td>21.0</td>\n",
       "      <td>7099.0</td>\n",
       "      <td>1106.0</td>\n",
       "      <td>2401.0</td>\n",
       "      <td>1138.0</td>\n",
       "      <td>8.3014</td>\n",
       "      <td>358500.0</td>\n",
       "      <td>NEAR BAY</td>\n",
       "    </tr>\n",
       "    <tr>\n",
       "      <th>2</th>\n",
       "      <td>-122.24</td>\n",
       "      <td>37.85</td>\n",
       "      <td>52.0</td>\n",
       "      <td>1467.0</td>\n",
       "      <td>190.0</td>\n",
       "      <td>496.0</td>\n",
       "      <td>177.0</td>\n",
       "      <td>7.2574</td>\n",
       "      <td>352100.0</td>\n",
       "      <td>NEAR BAY</td>\n",
       "    </tr>\n",
       "    <tr>\n",
       "      <th>3</th>\n",
       "      <td>-122.25</td>\n",
       "      <td>37.85</td>\n",
       "      <td>52.0</td>\n",
       "      <td>1274.0</td>\n",
       "      <td>235.0</td>\n",
       "      <td>558.0</td>\n",
       "      <td>219.0</td>\n",
       "      <td>5.6431</td>\n",
       "      <td>341300.0</td>\n",
       "      <td>NEAR BAY</td>\n",
       "    </tr>\n",
       "    <tr>\n",
       "      <th>4</th>\n",
       "      <td>-122.25</td>\n",
       "      <td>37.85</td>\n",
       "      <td>52.0</td>\n",
       "      <td>1627.0</td>\n",
       "      <td>280.0</td>\n",
       "      <td>565.0</td>\n",
       "      <td>259.0</td>\n",
       "      <td>3.8462</td>\n",
       "      <td>342200.0</td>\n",
       "      <td>NEAR BAY</td>\n",
       "    </tr>\n",
       "    <tr>\n",
       "      <th>...</th>\n",
       "      <td>...</td>\n",
       "      <td>...</td>\n",
       "      <td>...</td>\n",
       "      <td>...</td>\n",
       "      <td>...</td>\n",
       "      <td>...</td>\n",
       "      <td>...</td>\n",
       "      <td>...</td>\n",
       "      <td>...</td>\n",
       "      <td>...</td>\n",
       "    </tr>\n",
       "    <tr>\n",
       "      <th>20635</th>\n",
       "      <td>-121.09</td>\n",
       "      <td>39.48</td>\n",
       "      <td>25.0</td>\n",
       "      <td>1665.0</td>\n",
       "      <td>374.0</td>\n",
       "      <td>845.0</td>\n",
       "      <td>330.0</td>\n",
       "      <td>1.5603</td>\n",
       "      <td>78100.0</td>\n",
       "      <td>INLAND</td>\n",
       "    </tr>\n",
       "    <tr>\n",
       "      <th>20636</th>\n",
       "      <td>-121.21</td>\n",
       "      <td>39.49</td>\n",
       "      <td>18.0</td>\n",
       "      <td>697.0</td>\n",
       "      <td>150.0</td>\n",
       "      <td>356.0</td>\n",
       "      <td>114.0</td>\n",
       "      <td>2.5568</td>\n",
       "      <td>77100.0</td>\n",
       "      <td>INLAND</td>\n",
       "    </tr>\n",
       "    <tr>\n",
       "      <th>20637</th>\n",
       "      <td>-121.22</td>\n",
       "      <td>39.43</td>\n",
       "      <td>17.0</td>\n",
       "      <td>2254.0</td>\n",
       "      <td>485.0</td>\n",
       "      <td>1007.0</td>\n",
       "      <td>433.0</td>\n",
       "      <td>1.7000</td>\n",
       "      <td>92300.0</td>\n",
       "      <td>INLAND</td>\n",
       "    </tr>\n",
       "    <tr>\n",
       "      <th>20638</th>\n",
       "      <td>-121.32</td>\n",
       "      <td>39.43</td>\n",
       "      <td>18.0</td>\n",
       "      <td>1860.0</td>\n",
       "      <td>409.0</td>\n",
       "      <td>741.0</td>\n",
       "      <td>349.0</td>\n",
       "      <td>1.8672</td>\n",
       "      <td>84700.0</td>\n",
       "      <td>INLAND</td>\n",
       "    </tr>\n",
       "    <tr>\n",
       "      <th>20639</th>\n",
       "      <td>-121.24</td>\n",
       "      <td>39.37</td>\n",
       "      <td>16.0</td>\n",
       "      <td>2785.0</td>\n",
       "      <td>616.0</td>\n",
       "      <td>1387.0</td>\n",
       "      <td>530.0</td>\n",
       "      <td>2.3886</td>\n",
       "      <td>89400.0</td>\n",
       "      <td>INLAND</td>\n",
       "    </tr>\n",
       "  </tbody>\n",
       "</table>\n",
       "<p>20640 rows × 10 columns</p>\n",
       "</div>"
      ],
      "text/plain": [
       "       longitude  latitude  housing_median_age  total_rooms  total_bedrooms  \\\n",
       "0        -122.23     37.88                41.0        880.0           129.0   \n",
       "1        -122.22     37.86                21.0       7099.0          1106.0   \n",
       "2        -122.24     37.85                52.0       1467.0           190.0   \n",
       "3        -122.25     37.85                52.0       1274.0           235.0   \n",
       "4        -122.25     37.85                52.0       1627.0           280.0   \n",
       "...          ...       ...                 ...          ...             ...   \n",
       "20635    -121.09     39.48                25.0       1665.0           374.0   \n",
       "20636    -121.21     39.49                18.0        697.0           150.0   \n",
       "20637    -121.22     39.43                17.0       2254.0           485.0   \n",
       "20638    -121.32     39.43                18.0       1860.0           409.0   \n",
       "20639    -121.24     39.37                16.0       2785.0           616.0   \n",
       "\n",
       "       population  households  median_income  median_house_value  \\\n",
       "0           322.0       126.0         8.3252            452600.0   \n",
       "1          2401.0      1138.0         8.3014            358500.0   \n",
       "2           496.0       177.0         7.2574            352100.0   \n",
       "3           558.0       219.0         5.6431            341300.0   \n",
       "4           565.0       259.0         3.8462            342200.0   \n",
       "...           ...         ...            ...                 ...   \n",
       "20635       845.0       330.0         1.5603             78100.0   \n",
       "20636       356.0       114.0         2.5568             77100.0   \n",
       "20637      1007.0       433.0         1.7000             92300.0   \n",
       "20638       741.0       349.0         1.8672             84700.0   \n",
       "20639      1387.0       530.0         2.3886             89400.0   \n",
       "\n",
       "      ocean_proximity  \n",
       "0            NEAR BAY  \n",
       "1            NEAR BAY  \n",
       "2            NEAR BAY  \n",
       "3            NEAR BAY  \n",
       "4            NEAR BAY  \n",
       "...               ...  \n",
       "20635          INLAND  \n",
       "20636          INLAND  \n",
       "20637          INLAND  \n",
       "20638          INLAND  \n",
       "20639          INLAND  \n",
       "\n",
       "[20640 rows x 10 columns]"
      ]
     },
     "execution_count": 1399,
     "metadata": {},
     "output_type": "execute_result"
    }
   ],
   "source": [
    "df  = pd.read_csv('housing.csv')\n",
    "df"
   ]
  },
  {
   "cell_type": "code",
   "execution_count": 1400,
   "id": "454104cc",
   "metadata": {},
   "outputs": [],
   "source": [
    "# X, Y = df.drop(['median_house_value','ocean_proximity'], axis = 1), df['median_house_value']\n",
    "# X = X.to_numpy()\n",
    "# Y = Y.to_numpy()"
   ]
  },
  {
   "cell_type": "code",
   "execution_count": 1401,
   "id": "e627b784",
   "metadata": {},
   "outputs": [],
   "source": [
    "# from sklearn.datasets import load_diabetes\n",
    "# diabetes = load_diabetes()\n",
    "# X = diabetes.data\n",
    "# Y = diabetes.target"
   ]
  },
  {
   "cell_type": "code",
   "execution_count": 1402,
   "id": "2f9f4576",
   "metadata": {},
   "outputs": [
    {
     "data": {
      "text/plain": [
       "(100, 1)"
      ]
     },
     "execution_count": 1402,
     "metadata": {},
     "output_type": "execute_result"
    }
   ],
   "source": [
    "X.shape"
   ]
  },
  {
   "cell_type": "code",
   "execution_count": 1403,
   "id": "290c5434",
   "metadata": {},
   "outputs": [
    {
     "data": {
      "text/plain": [
       "(100, 1)"
      ]
     },
     "execution_count": 1403,
     "metadata": {},
     "output_type": "execute_result"
    }
   ],
   "source": [
    "Y.shape"
   ]
  },
  {
   "cell_type": "code",
   "execution_count": 1404,
   "id": "f17fe92f",
   "metadata": {},
   "outputs": [
    {
     "data": {
      "text/plain": [
       "array([2.33333333, 1.66666667, 3.66666667])"
      ]
     },
     "execution_count": 1404,
     "metadata": {},
     "output_type": "execute_result"
    }
   ],
   "source": [
    "np.mean(A, axis = 0)"
   ]
  },
  {
   "cell_type": "code",
   "execution_count": 1405,
   "id": "51676e96",
   "metadata": {},
   "outputs": [
    {
     "data": {
      "text/plain": [
       "array([0.47140452, 0.94280904, 2.3570226 ])"
      ]
     },
     "execution_count": 1405,
     "metadata": {},
     "output_type": "execute_result"
    }
   ],
   "source": [
    "np.std(A, axis = 0)"
   ]
  },
  {
   "cell_type": "code",
   "execution_count": 1406,
   "id": "8161fdbd",
   "metadata": {},
   "outputs": [
    {
     "data": {
      "text/plain": [
       "1"
      ]
     },
     "execution_count": 1406,
     "metadata": {},
     "output_type": "execute_result"
    }
   ],
   "source": [
    "len(np.mean(X, axis = 0))"
   ]
  },
  {
   "cell_type": "code",
   "execution_count": 1407,
   "id": "89436463",
   "metadata": {},
   "outputs": [],
   "source": [
    "A = np.array([[2 , 1 , 2]\n",
    "             ,[3 , 3 , 2]\n",
    "             ,[2 , 1 , 7]])"
   ]
  },
  {
   "cell_type": "code",
   "execution_count": 1408,
   "id": "8604e87f",
   "metadata": {},
   "outputs": [
    {
     "data": {
      "text/plain": [
       "array([[-0.70710678, -0.70710678, -0.70710678],\n",
       "       [ 1.41421356,  1.41421356, -0.70710678],\n",
       "       [-0.70710678, -0.70710678,  1.41421356]])"
      ]
     },
     "execution_count": 1408,
     "metadata": {},
     "output_type": "execute_result"
    }
   ],
   "source": [
    "(A - np.mean(A, axis = 0)) /np.std(A, axis = 0)"
   ]
  },
  {
   "cell_type": "code",
   "execution_count": 1409,
   "id": "c9fee9a2",
   "metadata": {},
   "outputs": [
    {
     "data": {
      "text/plain": [
       "(100, 1)"
      ]
     },
     "execution_count": 1409,
     "metadata": {},
     "output_type": "execute_result"
    }
   ],
   "source": [
    "Y = Y.reshape(-1,1)\n",
    "Y.shape"
   ]
  },
  {
   "cell_type": "code",
   "execution_count": 1410,
   "id": "c32f9ed6",
   "metadata": {},
   "outputs": [
    {
     "data": {
      "text/plain": [
       "array([[ 0.26595136],\n",
       "       [ 1.33222027],\n",
       "       [ 0.74300906],\n",
       "       [-0.46393548],\n",
       "       [-1.38913462],\n",
       "       [-0.27764483],\n",
       "       [-0.86741437],\n",
       "       [ 1.58311307],\n",
       "       [ 0.86879847],\n",
       "       [-1.43376941],\n",
       "       [ 1.20431862],\n",
       "       [ 0.42271437],\n",
       "       [-0.73482568],\n",
       "       [-0.52019516],\n",
       "       [-0.9536405 ],\n",
       "       [-0.40013725],\n",
       "       [-0.71720936],\n",
       "       [-1.55565995],\n",
       "       [-0.19823558],\n",
       "       [-0.18915391],\n",
       "       [-1.44639592],\n",
       "       [ 1.65976783],\n",
       "       [-0.23881181],\n",
       "       [ 0.2107889 ],\n",
       "       [-0.80043112],\n",
       "       [-0.54224148],\n",
       "       [ 0.2868213 ],\n",
       "       [ 0.8199394 ],\n",
       "       [ 1.65437103],\n",
       "       [ 0.45696832],\n",
       "       [-0.22322926],\n",
       "       [-0.38443204],\n",
       "       [ 1.17997076],\n",
       "       [-0.57958784],\n",
       "       [ 0.26173709],\n",
       "       [ 1.68727038],\n",
       "       [-0.96877427],\n",
       "       [ 0.88644115],\n",
       "       [ 0.90430078],\n",
       "       [-1.43634247],\n",
       "       [ 1.70942721],\n",
       "       [-0.33124435],\n",
       "       [ 0.81472263],\n",
       "       [-0.66036117],\n",
       "       [-0.74513543],\n",
       "       [-0.55461603],\n",
       "       [-1.12051404],\n",
       "       [ 1.72826021],\n",
       "       [-1.56486518],\n",
       "       [ 1.45354532],\n",
       "       [-0.38690527],\n",
       "       [ 1.56447475],\n",
       "       [-0.22923809],\n",
       "       [ 0.00228329],\n",
       "       [-0.06926789],\n",
       "       [ 1.50107551],\n",
       "       [ 0.59449589],\n",
       "       [-0.77661579],\n",
       "       [ 0.71046454],\n",
       "       [-0.1314882 ],\n",
       "       [-0.82683951],\n",
       "       [-1.07628487],\n",
       "       [-0.04847201],\n",
       "       [ 1.20631838],\n",
       "       [ 0.57968267],\n",
       "       [ 1.80337643],\n",
       "       [ 0.20128357],\n",
       "       [-0.75909887],\n",
       "       [-1.49662595],\n",
       "       [ 0.75925714],\n",
       "       [-0.58375822],\n",
       "       [ 1.02949206],\n",
       "       [-0.95418987],\n",
       "       [-0.01286006],\n",
       "       [-1.55123338],\n",
       "       [-1.06024537],\n",
       "       [-1.0195213 ],\n",
       "       [-0.78397222],\n",
       "       [ 0.54935632],\n",
       "       [-1.02374918],\n",
       "       [-0.37126849],\n",
       "       [ 1.13554038],\n",
       "       [ 1.11269421],\n",
       "       [-1.09194204],\n",
       "       [-0.78252352],\n",
       "       [-0.00715482],\n",
       "       [ 1.64181791],\n",
       "       [ 0.20141801],\n",
       "       [-0.48866431],\n",
       "       [-1.25872942],\n",
       "       [-0.86875339],\n",
       "       [-1.5222606 ],\n",
       "       [ 0.68867765],\n",
       "       [-0.80130231],\n",
       "       [ 1.11082823],\n",
       "       [-0.46727418],\n",
       "       [-1.50167406],\n",
       "       [ 1.69400117],\n",
       "       [ 1.6356508 ],\n",
       "       [ 1.39320524]])"
      ]
     },
     "execution_count": 1410,
     "metadata": {},
     "output_type": "execute_result"
    }
   ],
   "source": [
    "(X - np.mean(X, axis = 0))/ np.std(X, axis = 0)"
   ]
  },
  {
   "cell_type": "code",
   "execution_count": 1411,
   "id": "827bc3d9",
   "metadata": {},
   "outputs": [
    {
     "data": {
      "text/plain": [
       "1"
      ]
     },
     "execution_count": 1411,
     "metadata": {},
     "output_type": "execute_result"
    }
   ],
   "source": [
    "len(np.std(X, axis = 0))"
   ]
  },
  {
   "cell_type": "code",
   "execution_count": null,
   "id": "0a58a192",
   "metadata": {},
   "outputs": [],
   "source": []
  },
  {
   "cell_type": "code",
   "execution_count": 1412,
   "id": "e284316b",
   "metadata": {},
   "outputs": [],
   "source": [
    "X_train, y_train, X_test, y_test = g.train_test_split(X,Y,ratio=0.3,random_seed=44)"
   ]
  },
  {
   "cell_type": "code",
   "execution_count": 1413,
   "id": "adf1c8a5",
   "metadata": {},
   "outputs": [
    {
     "data": {
      "text/plain": [
       "(70, 1)"
      ]
     },
     "execution_count": 1413,
     "metadata": {},
     "output_type": "execute_result"
    }
   ],
   "source": [
    "X_train.shape"
   ]
  },
  {
   "cell_type": "code",
   "execution_count": 1414,
   "id": "6eaee150",
   "metadata": {},
   "outputs": [],
   "source": [
    "import matplotlib.pyplot as plt"
   ]
  },
  {
   "cell_type": "code",
   "execution_count": 1415,
   "id": "6675e233",
   "metadata": {
    "scrolled": true
   },
   "outputs": [
    {
     "data": {
      "text/plain": [
       "Text(0, 0.5, 'Labels')"
      ]
     },
     "execution_count": 1415,
     "metadata": {},
     "output_type": "execute_result"
    },
    {
     "data": {
      "image/png": "[encoded data removed]",
      "text/plain": [
       "<Figure size 432x288 with 1 Axes>"
      ]
     },
     "metadata": {
      "needs_background": "light"
     },
     "output_type": "display_data"
    }
   ],
   "source": [
    "plt.figure()\n",
    "plt.scatter(X_train,y_train,alpha = 0.7)\n",
    "plt.xlabel('Features')\n",
    "plt.ylabel('Labels')"
   ]
  },
  {
   "cell_type": "code",
   "execution_count": 1416,
   "id": "5c06c730",
   "metadata": {},
   "outputs": [
    {
     "data": {
      "image/png": "[encoded data removed]",
      "text/plain": [
       "<Figure size 432x288 with 1 Axes>"
      ]
     },
     "metadata": {
      "needs_background": "light"
     },
     "output_type": "display_data"
    }
   ],
   "source": [
    "g.fit(X_train,y_train)\n"
   ]
  },
  {
   "cell_type": "code",
   "execution_count": 1417,
   "id": "025833a0",
   "metadata": {},
   "outputs": [],
   "source": [
    "slope , intercept = g.parameters_[0][0],  g.parameters_[1][0]"
   ]
  },
  {
   "cell_type": "code",
   "execution_count": 1418,
   "id": "92e952ed",
   "metadata": {},
   "outputs": [
    {
     "data": {
      "text/plain": [
       "array([[2.02414522],\n",
       "       [6.9364598 ]])"
      ]
     },
     "execution_count": 1418,
     "metadata": {},
     "output_type": "execute_result"
    }
   ],
   "source": [
    "g.parameters_"
   ]
  },
  {
   "cell_type": "code",
   "execution_count": 1419,
   "id": "1b929ff0",
   "metadata": {},
   "outputs": [
    {
     "data": {
      "text/plain": [
       "2.024145215818432"
      ]
     },
     "execution_count": 1419,
     "metadata": {},
     "output_type": "execute_result"
    }
   ],
   "source": [
    "slope"
   ]
  },
  {
   "cell_type": "code",
   "execution_count": 1420,
   "id": "e93b24fc",
   "metadata": {},
   "outputs": [
    {
     "data": {
      "text/plain": [
       "Text(0, 0.5, 'Labels')"
      ]
     },
     "execution_count": 1420,
     "metadata": {},
     "output_type": "execute_result"
    },
    {
     "data": {
      "image/png": "[encoded data removed]",
      "text/plain": [
       "<Figure size 432x288 with 1 Axes>"
      ]
     },
     "metadata": {
      "needs_background": "light"
     },
     "output_type": "display_data"
    }
   ],
   "source": [
    "plt.figure()\n",
    "plt.scatter(X,Y,alpha = 0.7)\n",
    "plt.plot(X,X*slope+intercept, color = 'red')\n",
    "plt.xlabel('Features')\n",
    "plt.ylabel('Labels')"
   ]
  },
  {
   "cell_type": "code",
   "execution_count": 1421,
   "id": "448a54cd",
   "metadata": {},
   "outputs": [],
   "source": [
    "y_pred = g.predict(X_test)"
   ]
  },
  {
   "cell_type": "code",
   "execution_count": 1422,
   "id": "2a4d8dcb",
   "metadata": {},
   "outputs": [
    {
     "data": {
      "text/plain": [
       "0.7513418353529336"
      ]
     },
     "execution_count": 1422,
     "metadata": {},
     "output_type": "execute_result"
    }
   ],
   "source": [
    "g.r2_score(y_pred, y_test)"
   ]
  },
  {
   "cell_type": "code",
   "execution_count": 1423,
   "id": "75f90de9",
   "metadata": {},
   "outputs": [
    {
     "data": {
      "text/plain": [
       "(30, 1)"
      ]
     },
     "execution_count": 1423,
     "metadata": {},
     "output_type": "execute_result"
    }
   ],
   "source": [
    "y_test.shape"
   ]
  },
  {
   "cell_type": "code",
   "execution_count": 1298,
   "id": "890a52ce",
   "metadata": {},
   "outputs": [
    {
     "data": {
      "text/plain": [
       "(132, 1)"
      ]
     },
     "execution_count": 1298,
     "metadata": {},
     "output_type": "execute_result"
    }
   ],
   "source": [
    "y_pred.shape"
   ]
  },
  {
   "cell_type": "code",
   "execution_count": null,
   "id": "b798a0c9",
   "metadata": {},
   "outputs": [],
   "source": []
  }
 ],
 "metadata": {
  "kernelspec": {
   "display_name": "Python 3",
   "language": "python",
   "name": "python3"
  },
  "language_info": {
   "codemirror_mode": {
    "name": "ipython",
    "version": 3
   },
   "file_extension": ".py",
   "mimetype": "text/x-python",
   "name": "python",
   "nbconvert_exporter": "python",
   "pygments_lexer": "ipython3",
   "version": "3.8.8"
  }
 },
 "nbformat": 4,
 "nbformat_minor": 5
}
