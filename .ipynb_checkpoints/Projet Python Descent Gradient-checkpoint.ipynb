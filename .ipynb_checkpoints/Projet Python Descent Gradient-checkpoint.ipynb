{
 "cells": [
  {
   "cell_type": "code",
   "execution_count": 548,
   "id": "b46a75a2",
   "metadata": {},
   "outputs": [],
   "source": [
    "import numpy as np\n",
    "import random\n",
    "\n",
    "\n",
    "class GradientDescent():\n",
    "    \n",
    "    \"\"\"Descent gradient class with regularize technique\n",
    "    \n",
    "    Parameters\n",
    "    ----------\n",
    "    regularize : bool\n",
    "        If True, the regularization is used.\n",
    "    bias : bool\n",
    "        If the True, a bias is added to the features.\n",
    "    alpha : float > 0\n",
    "        Coefficient for the step when updating the parameters.\n",
    "    \n",
    "    Notes\n",
    "    -----\n",
    "    This class aims at computing the parameters of a linear model using\n",
    "    a descent gradient method with or without regularization.\n",
    "    \"\"\"\n",
    "    \n",
    "    def __init__(self, regularize=False, bias=True, alpha=3e-9, iterations=30000):\n",
    "        self.bias = bias\n",
    "        if alpha < 0:\n",
    "            raise ValueError('Alpha parameter must be > 0. Here {}.'.format(alpha))\n",
    "        self.alpha = alpha\n",
    "        self.iterations = iterations\n",
    "        self.regularize = regularize\n",
    "        \n",
    "        #set the epsilon value depending on the regularize case\n",
    "        if regularize:\n",
    "            self.epsilon = 1e-10\n",
    "        else:\n",
    "            self.epsilon = 1e-8\n",
    "    \n",
    "    def predict(self, new_features):\n",
    "        \"\"\"Make predictions using the result of the gradient descent\n",
    "        \n",
    "        Parameters\n",
    "        ----------\n",
    "        new_features : 2d sequence of float\n",
    "            The feature for which to predict the labels.\n",
    "            \n",
    "        Returns\n",
    "        -------\n",
    "        predicted_labels : 2d sequence of float\n",
    "            The predicted labels\n",
    "        \n",
    "        Notes\n",
    "        -----\n",
    "        The method fit must be called first.\n",
    "        \"\"\"\n",
    "        \n",
    "        if self.bias:\n",
    "            new_features = self._add_bias(new_features)\n",
    "        return self.hypothesis(new_features, self.parameters_)\n",
    "    \n",
    "    \n",
    "    def fit(self, features, label, parameters=None):\n",
    "        \"\"\"Find the optimal parameters\n",
    "        \n",
    "        Parameters\n",
    "        ----------\n",
    "        features : 2d sequence of float\n",
    "            The input parameters.\n",
    "        label : 2d sequence of float\n",
    "            The output parameters\n",
    "        parameters : 2d sequence of float\n",
    "            The initial guess for the descent gradient.\n",
    "        \"\"\"\n",
    "        # add bias or not\n",
    "        if self.bias:\n",
    "            features = self._add_bias(features)\n",
    "        \n",
    "        # if no initial parameters are given get some randomly\n",
    "        if parameters is None:\n",
    "            n = features.shape[1]\n",
    "            parameters = np.random.rand(n,1)\n",
    "    \n",
    "        # compute the initial prediction\n",
    "        predictions = self.hypothesis(features, parameters)\n",
    "        \n",
    "        # solve depending of the regularization or not\n",
    "        self.parameters_ = self._regularize_fit(features, label, parameters, predictions)\n",
    "#         if self.regularize:\n",
    "#             self.parameters_ = self._regularize_fit(features, label, parameters, predictions)\n",
    "#         else:\n",
    "#             self.parameters_ = self._classic_fit(features, label, parameters, predictions)\n",
    "         \n",
    "        \n",
    "#     def _classic_fit(self, features, label, parameters, predictions):\n",
    "#         \"\"\"Find the optimal parameters with classical method\n",
    "#         \"\"\"\n",
    "\n",
    "#         costFct = 0\n",
    "#         costFctEvol = []\n",
    "#         count = 0\n",
    "#         # On utilise une boucle while\n",
    "#         while self.testRegCostFct(predictions, label, parameters, costFct, self.epsilon):\n",
    "#             count += 1\n",
    "#             costFct = self.costFunction(predictions, label)\n",
    "#             grads = self.gradients(predictions, label, features)\n",
    "#             parameters = self.updateParameters(parameters, grads, self.alpha)\n",
    "#             predictions = self.hypothesis(features, parameters)\n",
    "#             costFctEvol.append(costFct)\n",
    "            \n",
    "#         plt.xlabel('Iterations')\n",
    "#         plt.ylabel('Fonction cout')\n",
    "#         plt.title('Evolution de la fonction cout en fonctions des iterations')\n",
    "#         plt.plot(costFctEvol)\n",
    "#         return parameters\n",
    "    \n",
    "    def _regularize_fit(self, features, label, parameters, predictions):\n",
    "        \"\"\"Find the optimal parameters with regularized method\n",
    "        \"\"\"\n",
    "\n",
    "        m = features.shape[0]\n",
    "        \n",
    "        lmb1 = 0.2\n",
    "        if self.regularize == False:\n",
    "            lmb1 = 0\n",
    "        lmb2 = 0\n",
    "        \n",
    "        if self.regularize == 'rigde':\n",
    "            lmb2 = 0\n",
    "        if self.regularize == 'lasso':\n",
    "            lmb2 = 1\n",
    "        if self.regularize == 'elastic-net':\n",
    "            lmb2 = 0.4\n",
    "        print('lambda 1 est ',lmb1)\n",
    "        print('lambda 2 est ',lmb2)\n",
    "        \n",
    "        \n",
    "        costFct = 0\n",
    "        costFctEvol = []\n",
    "        count = 0\n",
    "        while self.testRegCostFct(predictions, label, lmb1, lmb2, parameters, costFct, self.epsilon):\n",
    "            count += 1\n",
    "            costFct = self.regCostFunction(predictions, label, lmb1, lmb2, parameters)\n",
    "            grads = self.regGradients(predictions, label, features, lmb1, lmb2, parameters)\n",
    "            parameters = self.updateParameters(parameters, grads, self.alpha)\n",
    "            predictions = self.hypothesis(features, parameters)\n",
    "            costFctEvol.append(costFct)\n",
    "            \n",
    "        plt.xlabel('Iterations')\n",
    "        plt.ylabel('Fonction cout')\n",
    "        plt.title('Evolution de la fonction cout en fonctions des iterations')\n",
    "        plt.plot(costFctEvol)\n",
    "        return parameters\n",
    "    \n",
    "    def _add_bias(self, features):\n",
    "        \"\"\"Add bias column (1 vector)\n",
    "        \"\"\"\n",
    "        bias = np.ones(features.shape[0])\n",
    "        return np.column_stack([features, bias])\n",
    "        \n",
    "    def hypothesis(self, x, theta):\n",
    "        \"\"\"Compute our hypothesis model (linear regression), use a fonction:\n",
    "        \"\"\"\n",
    "        return np.dot(x, theta)\n",
    "    \n",
    "    def costFunction(self, yhat, y):\n",
    "        \"\"\"Fonction de coût\n",
    "        \"\"\"\n",
    "        return np.square(yhat - y).sum() / (2*y.shape[0])\n",
    "    \n",
    "    def regCostFunction(self, yhat, y, lmb1, lmb2, theta):\n",
    "        \"\"\"Fonction de coût régularisée\n",
    "        \"\"\"\n",
    "        return self.costFunction(yhat, y) + lmb1/((2*y.shape[0]) * np.square(theta)).sum()\n",
    "\n",
    "\n",
    "        return self.costFunction(yhat, y) + lmb1*(((1-lmb2)/2) * np.square(theta).sum() + lmb2(np.abs(theta)).sum())\n",
    "    \n",
    "    def gradients(self, yhat, y, x):\n",
    "        \"\"\"Dérivée de la fonction de coût == gradients\n",
    "        \"\"\"\n",
    "        \n",
    "        return (((yhat - y) * x).sum(axis=0) / x.shape[0]).reshape(x.shape[1],1)\n",
    "\n",
    "    def regGradients(self, yhat, y, x, lmb1 ,lmb2 , theta):\n",
    "        \"\"\"Dérivée de la fonction de coût regularisée\n",
    "        \"\"\"\n",
    "        #return (((yhat - y) * x).sum(axis=0) / x.shape[0]).reshape(x.shape[1],1) + lmb1/x.shape[0]*theta\n",
    "\n",
    "        return (((yhat - y) * x).sum(axis=0) / x.shape[0]).reshape(x.shape[1],1) + (lmb1*(1-lmb2))/x.shape[0]*theta\n",
    "    \n",
    "    def updateParameters(self, parameters, grads, alpha):\n",
    "        \"\"\"Gradient descent: mise à jour des paramètres\n",
    "        \"\"\"\n",
    "        return parameters - alpha * grads\n",
    "\n",
    "#     def testCostFct(self, yhat, y, prevCostFct, epsilon):\n",
    "#         \"\"\" Fonction pour tester l'évolution de la fonction de coût: vrai = continuer la descente de gradient\n",
    "#         \"\"\"\n",
    "#         return np.abs(self.costFunction(yhat, y) - prevCostFct) >= epsilon*prevCostFct\n",
    "    \n",
    "    def testRegCostFct(self, yhat, y, lmb1, lmb2, theta, prevCostFct, epsilon):\n",
    "        \"\"\" Fonction pour tester l'évolution de la fonction de coût régularisée\n",
    "            \n",
    "            Returns\n",
    "            -------\n",
    "            test : bool\n",
    "                vrai = continuer la descente de gradient\n",
    "        \"\"\"\n",
    "        return np.abs(self.regCostFunction(yhat, y, lmb1, lmb2, theta) - prevCostFct) >= epsilon*prevCostFct\n",
    "    \n",
    "    def train_test_split(self, X, y, ratio=0.3, random_seed = 42):\n",
    "        \"\"\" Fonction pour subdiviser les donnees en donnees d'entrainement et donnees de test.\n",
    "        \n",
    "             Parametres\n",
    "            ----------\n",
    "            X : 2d sequence of float\n",
    "                The input parameters.\n",
    "            y : 2d sequence of float\n",
    "                The output parameters\n",
    "            ratio : La ratio du test set.\n",
    "            \n",
    "            Returns\n",
    "            -------\n",
    "            X_train : les features d'entrainement.\n",
    "            y_train : les labels d'entrainement.\n",
    "            X_test : les features de test.\n",
    "            y_test : les labels de test.\n",
    "            \n",
    "        \"\"\"\n",
    "        X_train = []\n",
    "        y_train = []\n",
    "        X_test = []\n",
    "        y_test = []\n",
    "        rows = len(X)\n",
    "        random.seed(random_seed)\n",
    "        test_index = random.sample(range(0,rows), int(rows*ratio))\n",
    "        for i in range(rows):\n",
    "            if i in test_index:\n",
    "                X_test.append(X[i])\n",
    "                y_test.append(y[i])\n",
    "            else:\n",
    "                X_train.append(X[i])\n",
    "                y_train.append(y[i])\n",
    "        return np.array(X_train), np.array(y_train), np.array(X_test), np.array(y_test)\n",
    "    \n",
    "    def mae(self, y, y_pred) :\n",
    "        return np.abs(y_pred - y).sum() / (2*y.shape[0])\n",
    "    \n",
    "    def rmse(self, y, y_pred) :\n",
    "        return np.sqrt(np.square(y_pred - y).sum() / (2*y.shape[0]))\n",
    "    \n",
    "    def r2_score(self, y, y_pred) :\n",
    "        return 1 - (np.square(y_pred - y).sum() / np.square(y_pred - np.mean(y)).sum())\n",
    "        "
   ]
  },
  {
   "cell_type": "code",
   "execution_count": 549,
   "id": "28a759b8",
   "metadata": {},
   "outputs": [],
   "source": [
    "g = GradientDescent(regularize = False,alpha = 0.03, iterations = 100000)"
   ]
  },
  {
   "cell_type": "code",
   "execution_count": 550,
   "id": "00245b67",
   "metadata": {},
   "outputs": [],
   "source": [
    "import numpy as np \n",
    "import pandas as pd\n",
    "np.random.seed(67)"
   ]
  },
  {
   "cell_type": "code",
   "execution_count": 551,
   "id": "6495c017",
   "metadata": {},
   "outputs": [],
   "source": [
    "X = 3 * np.random.rand(100, 1) - 2\n",
    "Y = 2*X + 7 + np.random.randn(100, 1)"
   ]
  },
  {
   "cell_type": "code",
   "execution_count": 552,
   "id": "80840324",
   "metadata": {},
   "outputs": [
    {
     "data": {
      "text/html": [
       "<div>\n",
       "<style scoped>\n",
       "    .dataframe tbody tr th:only-of-type {\n",
       "        vertical-align: middle;\n",
       "    }\n",
       "\n",
       "    .dataframe tbody tr th {\n",
       "        vertical-align: top;\n",
       "    }\n",
       "\n",
       "    .dataframe thead th {\n",
       "        text-align: right;\n",
       "    }\n",
       "</style>\n",
       "<table border=\"1\" class=\"dataframe\">\n",
       "  <thead>\n",
       "    <tr style=\"text-align: right;\">\n",
       "      <th></th>\n",
       "      <th>longitude</th>\n",
       "      <th>latitude</th>\n",
       "      <th>housing_median_age</th>\n",
       "      <th>total_rooms</th>\n",
       "      <th>total_bedrooms</th>\n",
       "      <th>population</th>\n",
       "      <th>households</th>\n",
       "      <th>median_income</th>\n",
       "      <th>median_house_value</th>\n",
       "      <th>ocean_proximity</th>\n",
       "    </tr>\n",
       "  </thead>\n",
       "  <tbody>\n",
       "    <tr>\n",
       "      <th>0</th>\n",
       "      <td>-122.23</td>\n",
       "      <td>37.88</td>\n",
       "      <td>41.0</td>\n",
       "      <td>880.0</td>\n",
       "      <td>129.0</td>\n",
       "      <td>322.0</td>\n",
       "      <td>126.0</td>\n",
       "      <td>8.3252</td>\n",
       "      <td>452600.0</td>\n",
       "      <td>NEAR BAY</td>\n",
       "    </tr>\n",
       "    <tr>\n",
       "      <th>1</th>\n",
       "      <td>-122.22</td>\n",
       "      <td>37.86</td>\n",
       "      <td>21.0</td>\n",
       "      <td>7099.0</td>\n",
       "      <td>1106.0</td>\n",
       "      <td>2401.0</td>\n",
       "      <td>1138.0</td>\n",
       "      <td>8.3014</td>\n",
       "      <td>358500.0</td>\n",
       "      <td>NEAR BAY</td>\n",
       "    </tr>\n",
       "    <tr>\n",
       "      <th>2</th>\n",
       "      <td>-122.24</td>\n",
       "      <td>37.85</td>\n",
       "      <td>52.0</td>\n",
       "      <td>1467.0</td>\n",
       "      <td>190.0</td>\n",
       "      <td>496.0</td>\n",
       "      <td>177.0</td>\n",
       "      <td>7.2574</td>\n",
       "      <td>352100.0</td>\n",
       "      <td>NEAR BAY</td>\n",
       "    </tr>\n",
       "    <tr>\n",
       "      <th>3</th>\n",
       "      <td>-122.25</td>\n",
       "      <td>37.85</td>\n",
       "      <td>52.0</td>\n",
       "      <td>1274.0</td>\n",
       "      <td>235.0</td>\n",
       "      <td>558.0</td>\n",
       "      <td>219.0</td>\n",
       "      <td>5.6431</td>\n",
       "      <td>341300.0</td>\n",
       "      <td>NEAR BAY</td>\n",
       "    </tr>\n",
       "    <tr>\n",
       "      <th>4</th>\n",
       "      <td>-122.25</td>\n",
       "      <td>37.85</td>\n",
       "      <td>52.0</td>\n",
       "      <td>1627.0</td>\n",
       "      <td>280.0</td>\n",
       "      <td>565.0</td>\n",
       "      <td>259.0</td>\n",
       "      <td>3.8462</td>\n",
       "      <td>342200.0</td>\n",
       "      <td>NEAR BAY</td>\n",
       "    </tr>\n",
       "    <tr>\n",
       "      <th>...</th>\n",
       "      <td>...</td>\n",
       "      <td>...</td>\n",
       "      <td>...</td>\n",
       "      <td>...</td>\n",
       "      <td>...</td>\n",
       "      <td>...</td>\n",
       "      <td>...</td>\n",
       "      <td>...</td>\n",
       "      <td>...</td>\n",
       "      <td>...</td>\n",
       "    </tr>\n",
       "    <tr>\n",
       "      <th>20635</th>\n",
       "      <td>-121.09</td>\n",
       "      <td>39.48</td>\n",
       "      <td>25.0</td>\n",
       "      <td>1665.0</td>\n",
       "      <td>374.0</td>\n",
       "      <td>845.0</td>\n",
       "      <td>330.0</td>\n",
       "      <td>1.5603</td>\n",
       "      <td>78100.0</td>\n",
       "      <td>INLAND</td>\n",
       "    </tr>\n",
       "    <tr>\n",
       "      <th>20636</th>\n",
       "      <td>-121.21</td>\n",
       "      <td>39.49</td>\n",
       "      <td>18.0</td>\n",
       "      <td>697.0</td>\n",
       "      <td>150.0</td>\n",
       "      <td>356.0</td>\n",
       "      <td>114.0</td>\n",
       "      <td>2.5568</td>\n",
       "      <td>77100.0</td>\n",
       "      <td>INLAND</td>\n",
       "    </tr>\n",
       "    <tr>\n",
       "      <th>20637</th>\n",
       "      <td>-121.22</td>\n",
       "      <td>39.43</td>\n",
       "      <td>17.0</td>\n",
       "      <td>2254.0</td>\n",
       "      <td>485.0</td>\n",
       "      <td>1007.0</td>\n",
       "      <td>433.0</td>\n",
       "      <td>1.7000</td>\n",
       "      <td>92300.0</td>\n",
       "      <td>INLAND</td>\n",
       "    </tr>\n",
       "    <tr>\n",
       "      <th>20638</th>\n",
       "      <td>-121.32</td>\n",
       "      <td>39.43</td>\n",
       "      <td>18.0</td>\n",
       "      <td>1860.0</td>\n",
       "      <td>409.0</td>\n",
       "      <td>741.0</td>\n",
       "      <td>349.0</td>\n",
       "      <td>1.8672</td>\n",
       "      <td>84700.0</td>\n",
       "      <td>INLAND</td>\n",
       "    </tr>\n",
       "    <tr>\n",
       "      <th>20639</th>\n",
       "      <td>-121.24</td>\n",
       "      <td>39.37</td>\n",
       "      <td>16.0</td>\n",
       "      <td>2785.0</td>\n",
       "      <td>616.0</td>\n",
       "      <td>1387.0</td>\n",
       "      <td>530.0</td>\n",
       "      <td>2.3886</td>\n",
       "      <td>89400.0</td>\n",
       "      <td>INLAND</td>\n",
       "    </tr>\n",
       "  </tbody>\n",
       "</table>\n",
       "<p>20640 rows × 10 columns</p>\n",
       "</div>"
      ],
      "text/plain": [
       "       longitude  latitude  housing_median_age  total_rooms  total_bedrooms  \\\n",
       "0        -122.23     37.88                41.0        880.0           129.0   \n",
       "1        -122.22     37.86                21.0       7099.0          1106.0   \n",
       "2        -122.24     37.85                52.0       1467.0           190.0   \n",
       "3        -122.25     37.85                52.0       1274.0           235.0   \n",
       "4        -122.25     37.85                52.0       1627.0           280.0   \n",
       "...          ...       ...                 ...          ...             ...   \n",
       "20635    -121.09     39.48                25.0       1665.0           374.0   \n",
       "20636    -121.21     39.49                18.0        697.0           150.0   \n",
       "20637    -121.22     39.43                17.0       2254.0           485.0   \n",
       "20638    -121.32     39.43                18.0       1860.0           409.0   \n",
       "20639    -121.24     39.37                16.0       2785.0           616.0   \n",
       "\n",
       "       population  households  median_income  median_house_value  \\\n",
       "0           322.0       126.0         8.3252            452600.0   \n",
       "1          2401.0      1138.0         8.3014            358500.0   \n",
       "2           496.0       177.0         7.2574            352100.0   \n",
       "3           558.0       219.0         5.6431            341300.0   \n",
       "4           565.0       259.0         3.8462            342200.0   \n",
       "...           ...         ...            ...                 ...   \n",
       "20635       845.0       330.0         1.5603             78100.0   \n",
       "20636       356.0       114.0         2.5568             77100.0   \n",
       "20637      1007.0       433.0         1.7000             92300.0   \n",
       "20638       741.0       349.0         1.8672             84700.0   \n",
       "20639      1387.0       530.0         2.3886             89400.0   \n",
       "\n",
       "      ocean_proximity  \n",
       "0            NEAR BAY  \n",
       "1            NEAR BAY  \n",
       "2            NEAR BAY  \n",
       "3            NEAR BAY  \n",
       "4            NEAR BAY  \n",
       "...               ...  \n",
       "20635          INLAND  \n",
       "20636          INLAND  \n",
       "20637          INLAND  \n",
       "20638          INLAND  \n",
       "20639          INLAND  \n",
       "\n",
       "[20640 rows x 10 columns]"
      ]
     },
     "execution_count": 552,
     "metadata": {},
     "output_type": "execute_result"
    }
   ],
   "source": [
    "df  = pd.read_csv('housing.csv')\n",
    "df"
   ]
  },
  {
   "cell_type": "code",
   "execution_count": 553,
   "id": "9f0e4fbd",
   "metadata": {},
   "outputs": [],
   "source": [
    "# X, Y = df.drop(['median_house_value','ocean_proximity'], axis = 1), df['median_house_value']\n",
    "# X = X.to_numpy()\n",
    "# Y = Y.to_numpy()"
   ]
  },
  {
   "cell_type": "code",
   "execution_count": 554,
   "id": "cd84d152",
   "metadata": {},
   "outputs": [],
   "source": [
    "from sklearn.datasets import load_diabetes\n",
    "diabetes = load_diabetes()\n",
    "X = diabetes.data\n",
    "Y = diabetes.target"
   ]
  },
  {
   "cell_type": "code",
   "execution_count": 555,
   "id": "bb5479ac",
   "metadata": {},
   "outputs": [
    {
     "data": {
      "text/plain": [
       "(442, 10)"
      ]
     },
     "execution_count": 555,
     "metadata": {},
     "output_type": "execute_result"
    }
   ],
   "source": [
    "X.shape"
   ]
  },
  {
   "cell_type": "code",
   "execution_count": 556,
   "id": "e6e7e1bc",
   "metadata": {},
   "outputs": [
    {
     "data": {
      "text/plain": [
       "(442,)"
      ]
     },
     "execution_count": 556,
     "metadata": {},
     "output_type": "execute_result"
    }
   ],
   "source": [
    "Y.shape"
   ]
  },
  {
   "cell_type": "code",
   "execution_count": 557,
   "id": "a9570dd4",
   "metadata": {},
   "outputs": [],
   "source": [
    "Y = Y.reshape(-1,1)"
   ]
  },
  {
   "cell_type": "code",
   "execution_count": 558,
   "id": "bf047bd2",
   "metadata": {},
   "outputs": [],
   "source": [
    "X_train, y_train, X_test, y_test = g.train_test_split(X,Y,ratio=0.3,random_seed=44)"
   ]
  },
  {
   "cell_type": "code",
   "execution_count": 559,
   "id": "ea9c57c8",
   "metadata": {},
   "outputs": [
    {
     "data": {
      "text/plain": [
       "(310, 10)"
      ]
     },
     "execution_count": 559,
     "metadata": {},
     "output_type": "execute_result"
    }
   ],
   "source": [
    "X_train.shape"
   ]
  },
  {
   "cell_type": "code",
   "execution_count": 560,
   "id": "38d9c5b7",
   "metadata": {},
   "outputs": [],
   "source": [
    "import matplotlib.pyplot as plt"
   ]
  },
  {
   "cell_type": "code",
   "execution_count": 561,
   "id": "c74289fe",
   "metadata": {
    "scrolled": true
   },
   "outputs": [],
   "source": [
    "#plt.figure()\n",
    "#plt.scatter(X_train,y_train,alpha = 0.7)\n",
    "#plt.xlabel('Features')\n",
    "#plt.ylabel('Labels')"
   ]
  },
  {
   "cell_type": "code",
   "execution_count": 562,
   "id": "8b28dc89",
   "metadata": {},
   "outputs": [
    {
     "name": "stdout",
     "output_type": "stream",
     "text": [
      "lambda 1 est  0\n",
      "lambda 2 est  0\n"
     ]
    },
    {
     "data": {
      "image/png": "[encoded data removed]",
      "text/plain": [
       "<Figure size 432x288 with 1 Axes>"
      ]
     },
     "metadata": {
      "needs_background": "light"
     },
     "output_type": "display_data"
    }
   ],
   "source": [
    "g.fit(X_train,y_train)"
   ]
  },
  {
   "cell_type": "code",
   "execution_count": 563,
   "id": "eecfa622",
   "metadata": {},
   "outputs": [],
   "source": [
    "slope , intercept = g.parameters_[0][0],  g.parameters_[1][0]"
   ]
  },
  {
   "cell_type": "code",
   "execution_count": 564,
   "id": "d1696aae",
   "metadata": {},
   "outputs": [
    {
     "data": {
      "text/plain": [
       "array([[ -24.62964016],\n",
       "       [-270.20699139],\n",
       "       [ 503.99845827],\n",
       "       [ 362.05664109],\n",
       "       [ -50.43939899],\n",
       "       [-125.41491857],\n",
       "       [-219.99094666],\n",
       "       [ 127.55652776],\n",
       "       [ 456.86796959],\n",
       "       [  42.1982876 ],\n",
       "       [ 152.01849369]])"
      ]
     },
     "execution_count": 564,
     "metadata": {},
     "output_type": "execute_result"
    }
   ],
   "source": [
    "g.parameters_"
   ]
  },
  {
   "cell_type": "code",
   "execution_count": 503,
   "id": "0fbf22b4",
   "metadata": {},
   "outputs": [
    {
     "data": {
      "text/plain": [
       "-23.956732609451507"
      ]
     },
     "execution_count": 503,
     "metadata": {},
     "output_type": "execute_result"
    }
   ],
   "source": [
    "slope"
   ]
  },
  {
   "cell_type": "code",
   "execution_count": 504,
   "id": "8a74018d",
   "metadata": {},
   "outputs": [],
   "source": [
    "# plt.figure()\n",
    "# plt.scatter(X,Y,alpha = 0.7)\n",
    "# plt.plot(X,X*slope+intercept, color = 'red')\n",
    "# plt.xlabel('Features')\n",
    "# plt.ylabel('Labels')"
   ]
  },
  {
   "cell_type": "code",
   "execution_count": 505,
   "id": "8f2d49e6",
   "metadata": {},
   "outputs": [],
   "source": [
    "y_pred = g.predict(X_test)"
   ]
  },
  {
   "cell_type": "code",
   "execution_count": 506,
   "id": "defc89f7",
   "metadata": {},
   "outputs": [
    {
     "data": {
      "text/plain": [
       "0.5323630598946936"
      ]
     },
     "execution_count": 506,
     "metadata": {},
     "output_type": "execute_result"
    }
   ],
   "source": [
    "g.r2_score(y_pred, y_test)"
   ]
  },
  {
   "cell_type": "code",
   "execution_count": 507,
   "id": "ed123d81",
   "metadata": {},
   "outputs": [
    {
     "data": {
      "text/plain": [
       "(132, 1)"
      ]
     },
     "execution_count": 507,
     "metadata": {},
     "output_type": "execute_result"
    }
   ],
   "source": [
    "y_test.shape"
   ]
  },
  {
   "cell_type": "code",
   "execution_count": 508,
   "id": "ae7e358a",
   "metadata": {},
   "outputs": [
    {
     "data": {
      "text/plain": [
       "(132, 1)"
      ]
     },
     "execution_count": 508,
     "metadata": {},
     "output_type": "execute_result"
    }
   ],
   "source": [
    "y_pred.shape"
   ]
  },
  {
   "cell_type": "code",
   "execution_count": 509,
   "id": "2cbe764f",
   "metadata": {},
   "outputs": [],
   "source": [
    "\n",
    "def generateXvector(X):\n",
    "    \"\"\" Taking the original independent variables matrix and add a row of 1 which corresponds to x_0\n",
    "        Parameters:\n",
    "          X:  independent variables matrix\n",
    "        Return value: the matrix that contains all the values in the dataset, not include the outcomes values \n",
    "    \"\"\"\n",
    "    vectorX = np.c_[np.ones((len(X), 1)), X]\n",
    "    return vectorX\n",
    "\n",
    "def theta_init(X):\n",
    "    \"\"\" Generate an initial value of vector θ from the original independent variables matrix\n",
    "         Parameters:\n",
    "          X:  independent variables matrix\n",
    "        Return value: a vector of theta filled with initial guess\n",
    "    \"\"\"\n",
    "    theta = np.random.randn(len(X[0])+1, 1)\n",
    "    return theta\n",
    "\n",
    "def Multivariable_Linear_Regression(X,y,learningrate, iterations):\n",
    "    \"\"\" Find the multivarite regression model for the data set\n",
    "         Parameters:\n",
    "          X:  independent variables matrix\n",
    "          y: dependent variables matrix\n",
    "          learningrate: learningrate of Gradient Descent\n",
    "          iterations: the number of iterations\n",
    "        Return value: the final theta vector and the plot of cost function\n",
    "    \"\"\"\n",
    "    y_new = np.reshape(y, (len(y), 1))   \n",
    "    cost_lst = []\n",
    "    vectorX = generateXvector(X)\n",
    "    theta = theta_init(X)\n",
    "    m = len(X)\n",
    "    for i in range(iterations):\n",
    "        gradients = 2/m * vectorX.T.dot(vectorX.dot(theta) - y_new)\n",
    "        theta = theta - learningrate * gradients\n",
    "        y_pred = vectorX.dot(theta)\n",
    "        cost_value = 1/(2*len(y))*((y_pred - y)**2) #Calculate the loss for each training instance\n",
    "        total = 0\n",
    "        for i in range(len(y)):\n",
    "            total += cost_value[i][0] #Calculate the cost function for each iteration\n",
    "        cost_lst.append(total)\n",
    "    plt.plot(np.arange(1,iterations),cost_lst[1:], color = 'red')\n",
    "    plt.title('Cost function Graph')\n",
    "    plt.xlabel('Number of iterations')\n",
    "    plt.ylabel('Cost')\n",
    "    return theta"
   ]
  },
  {
   "cell_type": "code",
   "execution_count": 510,
   "id": "4fea3bc1",
   "metadata": {},
   "outputs": [
    {
     "data": {
      "text/plain": [
       "array([[153.27355153],\n",
       "       [ 25.94860852],\n",
       "       [ -0.72536156],\n",
       "       [106.11410015],\n",
       "       [ 85.95150756],\n",
       "       [ 31.43669153],\n",
       "       [ 20.14694185],\n",
       "       [-65.82922992],\n",
       "       [ 69.03924446],\n",
       "       [100.96508083],\n",
       "       [ 59.2680745 ]])"
      ]
     },
     "execution_count": 510,
     "metadata": {},
     "output_type": "execute_result"
    },
    {
     "data": {
      "image/png": "[encoded data removed]",
      "text/plain": [
       "<Figure size 432x288 with 1 Axes>"
      ]
     },
     "metadata": {
      "needs_background": "light"
     },
     "output_type": "display_data"
    }
   ],
   "source": [
    "Multivariable_Linear_Regression(X_train, y_train, 0.03, 1000)"
   ]
  },
  {
   "cell_type": "code",
   "execution_count": 511,
   "id": "e96e2513",
   "metadata": {},
   "outputs": [],
   "source": [
    "from sklearn.datasets import load_diabetes\n",
    "diabetes = load_diabetes()\n",
    "X = diabetes.data\n",
    "y = diabetes.target"
   ]
  },
  {
   "cell_type": "code",
   "execution_count": null,
   "id": "17d03132",
   "metadata": {},
   "outputs": [],
   "source": []
  }
 ],
 "metadata": {
  "kernelspec": {
   "display_name": "Python 3",
   "language": "python",
   "name": "python3"
  },
  "language_info": {
   "codemirror_mode": {
    "name": "ipython",
    "version": 3
   },
   "file_extension": ".py",
   "mimetype": "text/x-python",
   "name": "python",
   "nbconvert_exporter": "python",
   "pygments_lexer": "ipython3",
   "version": "3.8.8"
  }
 },
 "nbformat": 4,
 "nbformat_minor": 5
}
