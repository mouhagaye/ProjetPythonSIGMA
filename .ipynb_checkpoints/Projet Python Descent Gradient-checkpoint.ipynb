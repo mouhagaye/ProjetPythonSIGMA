{
 "cells": [
  {
   "cell_type": "code",
   "execution_count": 329,
   "id": "b46a75a2",
   "metadata": {},
   "outputs": [],
   "source": [
    "import numpy as np\n",
    "import random\n",
    "\n",
    "\n",
    "class GradientDescent():\n",
    "    \n",
    "    \"\"\"Descent gradient class with regularize technique\n",
    "    \n",
    "    Parameters\n",
    "    ----------\n",
    "    regularize : bool\n",
    "        If True, the regularization is used.\n",
    "    bias : bool\n",
    "        If the True, a bias is added to the features.\n",
    "    alpha : float > 0\n",
    "        Coefficient for the step when updating the parameters.\n",
    "    \n",
    "    Notes\n",
    "    -----\n",
    "    This class aims at computing the parameters of a linear model using\n",
    "    a descent gradient method with or without regularization.\n",
    "    \"\"\"\n",
    "    \n",
    "    def __init__(self, regularize=True, bias=True, alpha=3e-9):\n",
    "        self.bias = bias\n",
    "        if alpha < 0:\n",
    "            raise ValueError('Alpha parameter must be > 0. Here {}.'.format(alpha))\n",
    "        self.alpha = alpha\n",
    "        self.regularize = regularize\n",
    "        \n",
    "        # set the epsilon value depending on the regularize case\n",
    "        if regularize:\n",
    "            self.epsilon = 1e-10\n",
    "        else:\n",
    "            self.epsilon = 1e-8\n",
    "    \n",
    "    def predict(self, new_features):\n",
    "        \"\"\"Make predictions using the result of the gradient descent\n",
    "        \n",
    "        Parameters\n",
    "        ----------\n",
    "        new_features : 2d sequence of float\n",
    "            The feature for which to predict the labels.\n",
    "            \n",
    "        Returns\n",
    "        -------\n",
    "        predicted_labels : 2d sequence of float\n",
    "            The predicted labels\n",
    "        \n",
    "        Notes\n",
    "        -----\n",
    "        The method fit must be called first.\n",
    "        \"\"\"\n",
    "        \n",
    "        if self.bias:\n",
    "            new_features = self._add_bias(new_features)\n",
    "        return self.hypothesis(new_features, self.parameters_)\n",
    "    \n",
    "    \n",
    "    def fit(self, features, label, parameters=None):\n",
    "        \"\"\"Find the optimal parameters\n",
    "        \n",
    "        Parameters\n",
    "        ----------\n",
    "        features : 2d sequence of float\n",
    "            The input parameters.\n",
    "        label : 2d sequence of float\n",
    "            The output parameters\n",
    "        parameters : 2d sequence of float\n",
    "            The initial guess for the descent gradient.\n",
    "        \"\"\"\n",
    "        # add bias or not\n",
    "        if self.bias:\n",
    "            features = self._add_bias(features)\n",
    "        \n",
    "        # if no initial parameters are given get some randomly\n",
    "        if parameters is None:\n",
    "            n = features.shape[1]\n",
    "            parameters = np.random.rand(n,1)\n",
    "    \n",
    "        # compute the initial prediction\n",
    "        predictions = self.hypothesis(features, parameters)\n",
    "        \n",
    "        # solve depending of the regularization or not\n",
    "        if self.regularize:\n",
    "            self.parameters_ = self._regularize_fit(features, label, parameters, predictions)\n",
    "        else:\n",
    "            self.parameters_ = self._classic_fit(features, label, parameters, predictions)\n",
    "         \n",
    "        \n",
    "    def _classic_fit(self, features, label, parameters, predictions):\n",
    "        \"\"\"Find the optimal parameters with classical method\n",
    "        \"\"\"\n",
    "\n",
    "        costFct = 0\n",
    "        costFctEvol = []\n",
    "        count = 0\n",
    "        # On utilise une boucle while\n",
    "        while self.testCostFct(predictions, label, costFct, self.epsilon):\n",
    "            count += 1\n",
    "            costFct = self.costFunction(predictions, label)\n",
    "            grads = self.gradients(predictions, label, features)\n",
    "            parameters = self.updateParameters(parameters, grads, self.alpha)\n",
    "            predictions = self.hypothesis(features, parameters)\n",
    "            if count % 1000 == 0:\n",
    "                print('%3i : cost function = {}'.format(costFct) % count)\n",
    "            costFctEvol.append(costFct)\n",
    "        print(\"\\nFinish: {} steps, cost function = {}\".format(count, costFct))\n",
    "        return parameters\n",
    "    \n",
    "    def _regularize_fit(self, features, label, parameters, predictions):\n",
    "        \"\"\"Find the optimal parameters with regularized method\n",
    "        \"\"\"\n",
    "\n",
    "        m = features.shape[0]\n",
    "        lmb1 = 0.2,\n",
    "        lmb2 = 0.4,\n",
    "        \n",
    "        costFct = 0\n",
    "        costFctEvol = []\n",
    "        count = 0\n",
    "        while self.testRegCostFct(predictions, label, lmb, parameters, costFct, self.epsilon):\n",
    "            count += 1\n",
    "            costFct = self.regCostFunction(predictions, label, lmb, parameters)\n",
    "            grads = self.regGradients(predictions, label, features, lmb, parameters)\n",
    "            parameters = self.updateParameters(parameters, grads, self.alpha)\n",
    "            predictions = self.hypothesis(features, parameters)\n",
    "            if count % 10 == 0:\n",
    "                print('%3i : cost function = {}'.format(costFct) % count)\n",
    "            costFctEvol.append(costFct)\n",
    "        print(\"\\nFinish: {} steps, cost function = {}\".format(count, costFct))\n",
    "        return parameters\n",
    "    \n",
    "    def _add_bias(self, features):\n",
    "        \"\"\"Add bias column (1 vector)\n",
    "        \"\"\"\n",
    "        bias = np.ones(features.shape[0])\n",
    "        return np.column_stack([features, bias])\n",
    "        \n",
    "    def hypothesis(self, x, theta):\n",
    "        \"\"\"Compute our hypothesis model (linear regression), use a fonction:\n",
    "        \"\"\"\n",
    "        return np.dot(x, theta)\n",
    "    \n",
    "    def costFunction(self, yhat, y):\n",
    "        \"\"\"Fonction de coût\n",
    "        \"\"\"\n",
    "        return np.square(yhat - y).sum() / (2*y.shape[0])\n",
    "    \n",
    "    def regCostFunction(self, yhat, y, lmb, theta):\n",
    "        \"\"\"Fonction de coût régularisée\n",
    "        \"\"\"\n",
    "        return self.costFunction(yhat, y) + lmb/(2*y.shape[0]) * np.square(theta).sum()\n",
    "    \n",
    "    def gradients(self, yhat, y, x):\n",
    "        \"\"\"Dérivée de la fonction de coût == gradients\n",
    "        \"\"\"\n",
    "        return (((yhat - y) * x).sum(axis=0) / x.shape[0]).reshape(x.shape[1],1)\n",
    "\n",
    "    def regGradients(self, yhat, y, x, lmb, theta):\n",
    "        \"\"\"Dérivée de la fonction de coût regularisée\n",
    "        \"\"\"\n",
    "        return (((yhat - y) * x).sum(axis=0) / x.shape[0]).reshape(x.shape[1],1) + lmb/x.shape[0]*theta\n",
    "    \n",
    "    def updateParameters(self, parameters, grads, alpha):\n",
    "        \"\"\"Gradient descent: mise à jour des paramètres\n",
    "        \"\"\"\n",
    "        return parameters - alpha * grads\n",
    "\n",
    "    def testCostFct(self, yhat, y, prevCostFct, epsilon):\n",
    "        \"\"\" Fonction pour tester l'évolution de la fonction de coût: vrai = continuer la descente de gradient\n",
    "        \"\"\"\n",
    "        return np.abs(self.costFunction(yhat, y) - prevCostFct) >= epsilon*prevCostFct\n",
    "    \n",
    "    def testRegCostFct(self, yhat, y, lmb, theta, prevCostFct, epsilon):\n",
    "        \"\"\" Fonction pour tester l'évolution de la fonction de coût régularisée\n",
    "            \n",
    "            Returns\n",
    "            -------\n",
    "            test : bool\n",
    "                vrai = continuer la descente de gradient\n",
    "        \"\"\"\n",
    "        return np.abs(self.regCostFunction(yhat, y, lmb, theta) - prevCostFct) >= epsilon*prevCostFct\n",
    "    \n",
    "    def train_test_split(self, X, y, ratio=0.3, random_seed = 42):\n",
    "        \"\"\" Fonction pour subdiviser les donnees en donnees d'entrainement et donnees de test.\n",
    "        \n",
    "             Parametres\n",
    "            ----------\n",
    "            X : 2d sequence of float\n",
    "                The input parameters.\n",
    "            y : 2d sequence of float\n",
    "                The output parameters\n",
    "            ratio : La ratio du test set.\n",
    "            \n",
    "            Returns\n",
    "            -------\n",
    "            X_train : les features d'entrainement.\n",
    "            y_train : les labels d'entrainement.\n",
    "            X_test : les features de test.\n",
    "            y_test : les labels de test.\n",
    "            \n",
    "        \"\"\"\n",
    "        X_train = []\n",
    "        y_train = []\n",
    "        X_test = []\n",
    "        y_test = []\n",
    "        rows = len(X)\n",
    "        random.seed(random_seed)\n",
    "        test_index = random.sample(range(0,rows), int(rows*ratio))\n",
    "        for i in range(rows):\n",
    "            if i in test_index:\n",
    "                X_test.append(X[i])\n",
    "                y_test.append(y[i])\n",
    "            else:\n",
    "                X_train.append(X[i])\n",
    "                y_train.append(y[i])\n",
    "        return np.array(X_train), np.array(y_train), np.array(X_test), np.array(y_test)\n",
    "        "
   ]
  },
  {
   "cell_type": "code",
   "execution_count": 330,
   "id": "34df8445",
   "metadata": {},
   "outputs": [],
   "source": [
    "g = GradientDescent(alpha = 0.03)"
   ]
  },
  {
   "cell_type": "code",
   "execution_count": 331,
   "id": "64d3de09",
   "metadata": {},
   "outputs": [],
   "source": [
    "import numpy as np \n",
    "import pandas as pd\n",
    "np.random.seed(67)"
   ]
  },
  {
   "cell_type": "code",
   "execution_count": 332,
   "id": "b4fd9996",
   "metadata": {},
   "outputs": [],
   "source": [
    "X = 3 * np.random.rand(100, 1) - 2\n",
    "Y = 2*X + 7 + np.random.randn(100, 1)"
   ]
  },
  {
   "cell_type": "code",
   "execution_count": 333,
   "id": "7eee6fb1",
   "metadata": {},
   "outputs": [],
   "source": [
    "df  = pd.read_csv('housing.csv')"
   ]
  },
  {
   "cell_type": "code",
   "execution_count": 334,
   "id": "90b89b61",
   "metadata": {},
   "outputs": [],
   "source": [
    "X_train, y_train, X_test, y_test = g.train_test_split(X,Y,ratio=0.3,random_seed=44)"
   ]
  },
  {
   "cell_type": "code",
   "execution_count": 335,
   "id": "3f829def",
   "metadata": {},
   "outputs": [],
   "source": [
    "import matplotlib.pyplot as plt"
   ]
  },
  {
   "cell_type": "code",
   "execution_count": 336,
   "id": "d2344109",
   "metadata": {
    "scrolled": true
   },
   "outputs": [
    {
     "data": {
      "text/plain": [
       "Text(0, 0.5, 'Labels')"
      ]
     },
     "execution_count": 336,
     "metadata": {},
     "output_type": "execute_result"
    },
    {
     "data": {
      "image/png": "[encoded data removed]",
      "text/plain": [
       "<Figure size 432x288 with 1 Axes>"
      ]
     },
     "metadata": {
      "needs_background": "light"
     },
     "output_type": "display_data"
    }
   ],
   "source": [
    "plt.figure()\n",
    "plt.scatter(X,Y,alpha = 0.7)\n",
    "plt.xlabel('Features')\n",
    "plt.ylabel('Labels')"
   ]
  },
  {
   "cell_type": "code",
   "execution_count": 337,
   "id": "51c5c820",
   "metadata": {},
   "outputs": [
    {
     "name": "stdout",
     "output_type": "stream",
     "text": [
      " 10 : cost function = 9.79143539537754\n",
      " 20 : cost function = 6.333021860421866\n",
      " 30 : cost function = 4.42369041073438\n",
      " 40 : cost function = 3.2608604948931337\n",
      " 50 : cost function = 2.496302962125211\n",
      " 60 : cost function = 1.9671182957332871\n",
      " 70 : cost function = 1.5893139884028313\n",
      " 80 : cost function = 1.3148168956127537\n",
      " 90 : cost function = 1.1134667369744842\n",
      "100 : cost function = 0.9650184360212469\n",
      "110 : cost function = 0.8552789037559642\n",
      "120 : cost function = 0.7740405066588347\n",
      "130 : cost function = 0.71385686245879\n",
      "140 : cost function = 0.6692540795789742\n",
      "150 : cost function = 0.6361918511325655\n",
      "160 : cost function = 0.6116816176011683\n",
      "170 : cost function = 0.5935103051264937\n",
      "180 : cost function = 0.5800381401490968\n",
      "190 : cost function = 0.5700497645182234\n",
      "200 : cost function = 0.5626442427740591\n",
      "210 : cost function = 0.5571536632543049\n",
      "220 : cost function = 0.5530828459631908\n",
      "230 : cost function = 0.5500646634110735\n",
      "240 : cost function = 0.5478269233242575\n",
      "250 : cost function = 0.5461678181921816\n",
      "260 : cost function = 0.5449377243689562\n",
      "270 : cost function = 0.5440257080628446\n",
      "280 : cost function = 0.5433495207986898\n",
      "290 : cost function = 0.5428481819268105\n",
      "300 : cost function = 0.5424764791743384\n",
      "310 : cost function = 0.5422008912541694\n",
      "320 : cost function = 0.5419965648092651\n",
      "330 : cost function = 0.5418450730598168\n",
      "340 : cost function = 0.5417327540196623\n",
      "350 : cost function = 0.5416494784166506\n",
      "360 : cost function = 0.5415877362040304\n",
      "370 : cost function = 0.5415419592815967\n",
      "380 : cost function = 0.5415080193474948\n",
      "390 : cost function = 0.5414828555954199\n",
      "400 : cost function = 0.5414641986818092\n",
      "410 : cost function = 0.5414503660695481\n",
      "420 : cost function = 0.5414401102916656\n",
      "430 : cost function = 0.5414325064509745\n",
      "440 : cost function = 0.541426868810035\n",
      "450 : cost function = 0.5414226889492709\n",
      "460 : cost function = 0.5414195899161477\n",
      "470 : cost function = 0.5414172922304493\n",
      "480 : cost function = 0.5414155886799036\n",
      "490 : cost function = 0.5414143256331503\n",
      "500 : cost function = 0.5414133891847979\n",
      "510 : cost function = 0.5414126948830915\n",
      "520 : cost function = 0.5414121801137947\n",
      "530 : cost function = 0.5414117984534497\n",
      "540 : cost function = 0.5414115154827676\n",
      "550 : cost function = 0.5414113056825934\n",
      "560 : cost function = 0.5414111501325103\n",
      "570 : cost function = 0.5414110348045398\n",
      "580 : cost function = 0.5414109492980549\n",
      "590 : cost function = 0.5414108859018212\n",
      "600 : cost function = 0.5414108388985746\n",
      "610 : cost function = 0.5414108040494188\n",
      "620 : cost function = 0.5414107782115514\n",
      "630 : cost function = 0.5414107590548349\n",
      "640 : cost function = 0.5414107448516591\n",
      "650 : cost function = 0.5414107343211376\n",
      "660 : cost function = 0.5414107265135966\n",
      "670 : cost function = 0.541410720724928\n",
      "680 : cost function = 0.5414107164330922\n",
      "690 : cost function = 0.5414107132510388\n",
      "700 : cost function = 0.5414107108918\n",
      "710 : cost function = 0.5414107091426129\n",
      "720 : cost function = 0.5414107078457302\n",
      "730 : cost function = 0.5414107068841952\n",
      "740 : cost function = 0.5414107061712937\n",
      "\n",
      "Finish: 744 steps, cost function = 0.5414107059407384\n"
     ]
    }
   ],
   "source": [
    "g.fit(X_train,y_train)"
   ]
  },
  {
   "cell_type": "code",
   "execution_count": 338,
   "id": "178cabf1",
   "metadata": {},
   "outputs": [
    {
     "data": {
      "text/plain": [
       "array([[2.00296134],\n",
       "       [6.90556867]])"
      ]
     },
     "execution_count": 338,
     "metadata": {},
     "output_type": "execute_result"
    }
   ],
   "source": [
    "g.parameters_"
   ]
  },
  {
   "cell_type": "code",
   "execution_count": 339,
   "id": "167fd267",
   "metadata": {},
   "outputs": [],
   "source": [
    "slope , intercept = g.parameters_[0][0],  g.parameters_[1][0]"
   ]
  },
  {
   "cell_type": "code",
   "execution_count": 340,
   "id": "fc773929",
   "metadata": {},
   "outputs": [
    {
     "data": {
      "text/plain": [
       "2.002961337744217"
      ]
     },
     "execution_count": 340,
     "metadata": {},
     "output_type": "execute_result"
    }
   ],
   "source": [
    "slope"
   ]
  },
  {
   "cell_type": "code",
   "execution_count": 341,
   "id": "2d284847",
   "metadata": {},
   "outputs": [
    {
     "data": {
      "text/plain": [
       "Text(0, 0.5, 'Labels')"
      ]
     },
     "execution_count": 341,
     "metadata": {},
     "output_type": "execute_result"
    },
    {
     "data": {
      "image/png": "[encoded data removed]",
      "text/plain": [
       "<Figure size 432x288 with 1 Axes>"
      ]
     },
     "metadata": {
      "needs_background": "light"
     },
     "output_type": "display_data"
    }
   ],
   "source": [
    "plt.figure()\n",
    "plt.scatter(X,Y,alpha = 0.7)\n",
    "plt.plot(X,X*slope+intercept, color = 'red')\n",
    "plt.xlabel('Features')\n",
    "plt.ylabel('Labels')"
   ]
  },
  {
   "cell_type": "code",
   "execution_count": null,
   "id": "07a4cfaf",
   "metadata": {},
   "outputs": [],
   "source": []
  }
 ],
 "metadata": {
  "kernelspec": {
   "display_name": "Python 3",
   "language": "python",
   "name": "python3"
  },
  "language_info": {
   "codemirror_mode": {
    "name": "ipython",
    "version": 3
   },
   "file_extension": ".py",
   "mimetype": "text/x-python",
   "name": "python",
   "nbconvert_exporter": "python",
   "pygments_lexer": "ipython3",
   "version": "3.8.8"
  }
 },
 "nbformat": 4,
 "nbformat_minor": 5
}
