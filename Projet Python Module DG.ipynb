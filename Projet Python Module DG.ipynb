{
 "cells": [
  {
   "cell_type": "markdown",
   "id": "5c2c155c",
   "metadata": {},
   "source": [
    "### <font face=\"Computer Modern\" size = 6 > Algorithmie et utilisation de Python en analyse de données"
   ]
  },
  {
   "cell_type": "markdown",
   "id": "74975cc2",
   "metadata": {},
   "source": [
    "<b><font face=\"Verdana\" size = 5 color = \"green\" >Mouhamadou GAYE</font><br/>\n",
    "<b><font face=\"Verdana\" size = 4 color = \"red\" >MSDS SIGMA CLERMONT</font>"
   ]
  },
  {
   "cell_type": "markdown",
   "id": "7f89af12",
   "metadata": {},
   "source": [
    "# <i> <font face=\"Computer Modern\" size = 6 >Descente de gradient\n"
   ]
  },
  {
   "cell_type": "markdown",
   "id": "4cfbacd0",
   "metadata": {},
   "source": [
    "### <i><font face=\"Computer Modern\" size = 5 > 1.  la fonction coût </font>"
   ]
  },
  {
   "cell_type": "markdown",
   "id": "5c8c8447",
   "metadata": {},
   "source": [
    "<i><font face=\"Computer Modern Sans\" size = 4>Le but de la regression linéaire est de trouver un modele qui prédit au mieux nos données. Ce modele est basé sur une fonction h(x) dont l'expression est la suivante pour la régression linéaire univariée : $ h(x) = \\theta_0 + \\theta_1 \\times X $   \n",
    "Pour obtenir le meilleur modele possible, nous devons trouver la fonction hypothese qui fait le moins d'erreur possible sur les données en entrée en choisissant les meilleurs parametres du modele. Et pour ce faire, nous definirons la fonction cout dont l'expression est la suivante:<br/> $$ J(\\theta_0,\\theta_1) = \\frac{1}{2m}\\sum_{i=1}^{m}(h(x_i) - y_i)^2$$<br/>\n",
    "<font face=\"Computer Modern Sans\" size = 4>Cette fonction symbolise l'erreur entre les prédictions de notre modele et la valeurs réelles des \"labels\", ainsi trouver le meilleur modele revient a minimiser cette fonction cout et de tirer les deux parametres de notre fonction hypothese et le tour est joué.</font></i>"
   ]
  },
  {
   "cell_type": "markdown",
   "id": "6d4f4a11",
   "metadata": {},
   "source": [
    "### <i><font face=\"Computer Modern\" size = 5 >2. Mise a jour des parametres du modele.</font>"
   ]
  },
  {
   "cell_type": "markdown",
   "id": "e992c0b8",
   "metadata": {},
   "source": [
    "\n",
    "$ 1- Initialisation\\space\\space des\\space\\space parametres\\space\\space(\\theta_0, \\theta_1)$ <br/>\n",
    "$ 2- Itérer\\space\\space jusqu'à\\space\\space convergence:$\n",
    "$$ \\theta_j = \\theta_j - \\alpha\\frac{\\partial}{\\partial \\theta_j}J(\\theta_0,\\theta_1)\\space\\space pour\\space tout\\space j.$$\n",
    "$avec\\space \\alpha \\space étant\\space le\\space pas.$</font></i>"
   ]
  },
  {
   "cell_type": "markdown",
   "id": "f447ed67",
   "metadata": {},
   "source": [
    "### <i><font face=\"Computer Modern\" size = 5 >3. Regularisation.</font>"
   ]
  },
  {
   "cell_type": "markdown",
   "id": "074cdc70",
   "metadata": {},
   "source": [
    "<i><font face=\"Computer Modern Sans\" size = 4>Nous avons ci dessus la fonction de coup de la regularisation ElasticNet\n",
    "    Nous avons opte de faire une generalisation du descente de gradients ainsi en fonction des parametres: $$\\lambda ,\\alpha $$\n",
    " Ainsi on observer les cas suivant :\n",
    "   - Si les 2 parametres sont nulle on obtient la descent de gradient classique\n",
    "   - Si le parametre lambda est non nulle et que le parametre alpha est nulle,la fonction cout depuis alors celle de la regularisation Ridge\n",
    "   - Si le parametre lambda est non nulle est que le parametre alpha est egal a 1 on est dans le cas de la regularisation Lasso\n",
    "   - Et enfin restant concerne la regularisation ElasticNet qui est un compromis en Ridge et Lasso</font></i>"
   ]
  },
  {
   "cell_type": "markdown",
   "id": "2c6bea4b",
   "metadata": {},
   "source": [
    "$$ J(\\theta) = \\frac{1}{2m}\\sum_{i=1}^{m}(h(x_i) - y_i)^2 + \\lambda\\sum_{j=1}^{n}\\left [ \\frac{1}{2}(1 - \\alpha)\\theta_j^2 +\\alpha|\\theta_j|\\right]\n",
    " $$<br/>"
   ]
  },
  {
   "cell_type": "markdown",
   "id": "1b7b7245",
   "metadata": {},
   "source": [
    "<i><font face=\"Computer Modern Sans\" size = 4>Dans le cadre de ce travail, nous avons implemente la descente gradient sous ces 4 formes ci-dessus dans un module avec quelques fonctionnalite. Dans les lignes qui suivent nous traiterons des donnees avec ce module</font></i>"
   ]
  },
  {
   "cell_type": "code",
   "execution_count": 1,
   "id": "978f6133",
   "metadata": {},
   "outputs": [],
   "source": [
    "from gradient_descent import gradient_descent\n",
    "import matplotlib.pyplot as plt\n",
    "import numpy as np"
   ]
  },
  {
   "cell_type": "markdown",
   "id": "6eb80a58",
   "metadata": {},
   "source": [
    "### <i><font face=\"Computer Modern\" size = 5 > 1.  Descente de gradient Simple </font>\n"
   ]
  },
  {
   "cell_type": "markdown",
   "id": "a0c41983",
   "metadata": {},
   "source": [
    "<i><font face=\"Computer Modern Sans\" size = 4>Nous allons dans un premier temps tester nos donnes sur des donnees d'entrainement univariees pour faciliter la visualisation du resultat</font></i>"
   ]
  },
  {
   "cell_type": "code",
   "execution_count": 2,
   "id": "1720b80e",
   "metadata": {},
   "outputs": [],
   "source": [
    "classic = gradient_descent.GradientDescent(learning_rate = 0.01)"
   ]
  },
  {
   "cell_type": "code",
   "execution_count": 28,
   "id": "eacd68a0",
   "metadata": {},
   "outputs": [],
   "source": [
    "import numpy as np \n",
    "import pandas as pd\n",
    "np.random.seed(42)\n",
    "X = 3 * np.random.rand(100, 1) - 2\n",
    "Y = 2*X + 7 + np.random.randn(100, 1)"
   ]
  },
  {
   "cell_type": "markdown",
   "id": "c520fd8c",
   "metadata": {},
   "source": [
    "### <i><font face=\"Computer Modern\" size = 3 > subdiviser nos donnnes en training_set and test_set grace a notre module </font>\n"
   ]
  },
  {
   "cell_type": "code",
   "execution_count": 29,
   "id": "8e425e49",
   "metadata": {},
   "outputs": [],
   "source": [
    "X_train, y_train, X_test, y_test = classic.train_test_split(X,Y,ratio=0.3,random_seed=44)"
   ]
  },
  {
   "cell_type": "markdown",
   "id": "b12599c3",
   "metadata": {},
   "source": [
    "### <i><font face=\"Computer Modern\" size = 3 > Generation de donnes univariees </font>"
   ]
  },
  {
   "cell_type": "code",
   "execution_count": 30,
   "id": "2370f65c",
   "metadata": {},
   "outputs": [
    {
     "data": {
      "text/plain": [
       "Text(0, 0.5, 'Labels')"
      ]
     },
     "execution_count": 30,
     "metadata": {},
     "output_type": "execute_result"
    },
    {
     "data": {
      "image/png": "[encoded data removed]",
      "text/plain": [
       "<Figure size 432x288 with 1 Axes>"
      ]
     },
     "metadata": {
      "needs_background": "light"
     },
     "output_type": "display_data"
    }
   ],
   "source": [
    "plt.figure()\n",
    "plt.scatter(X,Y,alpha = 0.7)\n",
    "plt.xlabel('Features')\n",
    "plt.ylabel('Labels')"
   ]
  },
  {
   "cell_type": "markdown",
   "id": "5d56e551",
   "metadata": {},
   "source": [
    "### <i><font face=\"Computer Modern\" size = 3 > Entrainement du modele </font>"
   ]
  },
  {
   "cell_type": "code",
   "execution_count": 31,
   "id": "d681215f",
   "metadata": {},
   "outputs": [
    {
     "data": {
      "image/png": "[encoded data removed]",
      "text/plain": [
       "<Figure size 432x288 with 1 Axes>"
      ]
     },
     "metadata": {
      "needs_background": "light"
     },
     "output_type": "display_data"
    }
   ],
   "source": [
    "classic.fit(X_train, y_train)"
   ]
  },
  {
   "cell_type": "markdown",
   "id": "e1cb86a4",
   "metadata": {},
   "source": [
    "### <i><font face=\"Computer Modern\" size = 3 > Parametres du modele apres entrainement </font>"
   ]
  },
  {
   "cell_type": "code",
   "execution_count": 32,
   "id": "ac263454",
   "metadata": {},
   "outputs": [
    {
     "data": {
      "text/plain": [
       "array([[1.81333038],\n",
       "       [6.8793849 ]])"
      ]
     },
     "execution_count": 32,
     "metadata": {},
     "output_type": "execute_result"
    }
   ],
   "source": [
    "classic.parameters_"
   ]
  },
  {
   "cell_type": "code",
   "execution_count": 33,
   "id": "7412b0b4",
   "metadata": {
    "scrolled": true
   },
   "outputs": [],
   "source": [
    "coeff_dir , ord_org = classic.parameters_[0][0],  classic.parameters_[1][0]"
   ]
  },
  {
   "cell_type": "code",
   "execution_count": 34,
   "id": "a8f409fc",
   "metadata": {},
   "outputs": [
    {
     "data": {
      "text/plain": [
       "Text(0, 0.5, 'Labels')"
      ]
     },
     "execution_count": 34,
     "metadata": {},
     "output_type": "execute_result"
    },
    {
     "data": {
      "image/png": "[encoded data removed]",
      "text/plain": [
       "<Figure size 432x288 with 1 Axes>"
      ]
     },
     "metadata": {
      "needs_background": "light"
     },
     "output_type": "display_data"
    }
   ],
   "source": [
    "plt.figure()\n",
    "plt.scatter(X,Y,alpha = 0.7)\n",
    "plt.plot(X,X*coeff_dir+ord_org, color = 'red')\n",
    "plt.xlabel('Features')\n",
    "plt.ylabel('Labels')"
   ]
  },
  {
   "cell_type": "markdown",
   "id": "e0926e9a",
   "metadata": {},
   "source": [
    "### <i><font face=\"Computer Modern\" size = 4 > Scoring </font>"
   ]
  },
  {
   "cell_type": "code",
   "execution_count": 35,
   "id": "67cc82b8",
   "metadata": {},
   "outputs": [],
   "source": [
    "y_pred = classic.predict(X_test)"
   ]
  },
  {
   "cell_type": "markdown",
   "id": "24346af9",
   "metadata": {},
   "source": [
    "### <i><font face=\"Computer Modern\" size = 3 > RMSE </font>"
   ]
  },
  {
   "cell_type": "code",
   "execution_count": 36,
   "id": "254247ff",
   "metadata": {},
   "outputs": [
    {
     "data": {
      "text/plain": [
       "0.6284869221550045"
      ]
     },
     "execution_count": 36,
     "metadata": {},
     "output_type": "execute_result"
    }
   ],
   "source": [
    "classic.rmse(y_pred, y_test)"
   ]
  },
  {
   "cell_type": "markdown",
   "id": "459c575e",
   "metadata": {},
   "source": [
    "### <i><font face=\"Computer Modern\" size = 4 > Coefficient de determination </font>"
   ]
  },
  {
   "cell_type": "code",
   "execution_count": 37,
   "id": "913e416c",
   "metadata": {},
   "outputs": [
    {
     "data": {
      "text/plain": [
       "0.7605463992578114"
      ]
     },
     "execution_count": 37,
     "metadata": {},
     "output_type": "execute_result"
    }
   ],
   "source": [
    "classic.r2_score(y_pred, y_test)"
   ]
  },
  {
   "cell_type": "markdown",
   "id": "1533fe30",
   "metadata": {},
   "source": [
    "### <i><font face=\"Computer Modern\" size = 4 > MAE </font>"
   ]
  },
  {
   "cell_type": "code",
   "execution_count": 38,
   "id": "bb3d8575",
   "metadata": {},
   "outputs": [
    {
     "data": {
      "text/plain": [
       "0.3357069330962164"
      ]
     },
     "execution_count": 38,
     "metadata": {},
     "output_type": "execute_result"
    }
   ],
   "source": [
    "classic.mae(y_pred, y_test)"
   ]
  },
  {
   "cell_type": "markdown",
   "id": "7c6a78f3",
   "metadata": {},
   "source": [
    "### <i><font face=\"Computer Modern\" size = 5 > 2.  Regularization Ridge </font>\n"
   ]
  },
  {
   "cell_type": "code",
   "execution_count": 39,
   "id": "83c40ad9",
   "metadata": {},
   "outputs": [],
   "source": [
    "ridge = gradient_descent.GradientDescent(regularize = 'ridge', learning_rate = 0.01)"
   ]
  },
  {
   "cell_type": "code",
   "execution_count": 40,
   "id": "116622ca",
   "metadata": {},
   "outputs": [
    {
     "name": "stdout",
     "output_type": "stream",
     "text": [
      "Le meilleur parametre de penalite lambda :  0.41000000000000003\n"
     ]
    },
    {
     "data": {
      "image/png": "[encoded data removed]",
      "text/plain": [
       "<Figure size 432x288 with 1 Axes>"
      ]
     },
     "metadata": {
      "needs_background": "light"
     },
     "output_type": "display_data"
    }
   ],
   "source": [
    "ridge.tunning(X_train,y_train,scoring=\"mae\") "
   ]
  },
  {
   "cell_type": "code",
   "execution_count": 41,
   "id": "fe28ca2d",
   "metadata": {},
   "outputs": [
    {
     "data": {
      "image/png": "[encoded data removed]",
      "text/plain": [
       "<Figure size 432x288 with 1 Axes>"
      ]
     },
     "metadata": {
      "needs_background": "light"
     },
     "output_type": "display_data"
    }
   ],
   "source": [
    "ridge.fit(X_train, y_train, lambd = 0.41)"
   ]
  },
  {
   "cell_type": "code",
   "execution_count": 42,
   "id": "0d8a2dfb",
   "metadata": {},
   "outputs": [
    {
     "data": {
      "text/plain": [
       "Text(0, 0.5, 'Labels')"
      ]
     },
     "execution_count": 42,
     "metadata": {},
     "output_type": "execute_result"
    },
    {
     "data": {
      "image/png": "[encoded data removed]",
      "text/plain": [
       "<Figure size 432x288 with 1 Axes>"
      ]
     },
     "metadata": {
      "needs_background": "light"
     },
     "output_type": "display_data"
    }
   ],
   "source": [
    "ridge.parameters_\n",
    "coeff_dir , ord_org = ridge.parameters_[0][0],  ridge.parameters_[1][0]\n",
    "plt.figure()\n",
    "plt.scatter(X,Y,alpha = 0.7)\n",
    "plt.plot(X,X*coeff_dir+ord_org, color = 'red')\n",
    "plt.xlabel('Features')\n",
    "plt.ylabel('Labels')"
   ]
  },
  {
   "cell_type": "markdown",
   "id": "1a2d45a7",
   "metadata": {},
   "source": [
    "### <i><font face=\"Computer Modern\" size = 4 > Scoring </font>"
   ]
  },
  {
   "cell_type": "code",
   "execution_count": 43,
   "id": "19e72b8c",
   "metadata": {},
   "outputs": [],
   "source": [
    "y_pred = ridge.predict(X_test)"
   ]
  },
  {
   "cell_type": "code",
   "execution_count": 44,
   "id": "6d359096",
   "metadata": {},
   "outputs": [
    {
     "data": {
      "text/plain": [
       "0.7605971130423201"
      ]
     },
     "execution_count": 44,
     "metadata": {},
     "output_type": "execute_result"
    }
   ],
   "source": [
    "ridge.r2_score(y_pred, y_test)"
   ]
  },
  {
   "cell_type": "markdown",
   "id": "fc97ba6f",
   "metadata": {},
   "source": [
    "### <i><font face=\"Computer Modern\" size = 5 > 3.  Lasso </font>\n"
   ]
  },
  {
   "cell_type": "code",
   "execution_count": 45,
   "id": "bf472799",
   "metadata": {},
   "outputs": [],
   "source": [
    "lasso = gradient_descent.GradientDescent(regularize = 'lasso', learning_rate = 0.01, normalize = True)"
   ]
  },
  {
   "cell_type": "code",
   "execution_count": 46,
   "id": "9fda8edb",
   "metadata": {},
   "outputs": [
    {
     "name": "stdout",
     "output_type": "stream",
     "text": [
      "Le meilleur parametre de penalite lambda :  0.21000000000000002\n"
     ]
    },
    {
     "data": {
      "image/png": "[encoded data removed]",
      "text/plain": [
       "<Figure size 432x288 with 1 Axes>"
      ]
     },
     "metadata": {
      "needs_background": "light"
     },
     "output_type": "display_data"
    }
   ],
   "source": [
    "ridge.tunning(X_train,y_train,scoring=\"rmse\") "
   ]
  },
  {
   "cell_type": "code",
   "execution_count": 48,
   "id": "65078900",
   "metadata": {},
   "outputs": [
    {
     "data": {
      "image/png": "[encoded data removed]",
      "text/plain": [
       "<Figure size 432x288 with 1 Axes>"
      ]
     },
     "metadata": {
      "needs_background": "light"
     },
     "output_type": "display_data"
    }
   ],
   "source": [
    "ridge.fit(X_train, y_train, lambd = 0.21)"
   ]
  },
  {
   "cell_type": "code",
   "execution_count": 58,
   "id": "2156525d",
   "metadata": {},
   "outputs": [
    {
     "data": {
      "text/plain": [
       "0.6284159549548781"
      ]
     },
     "execution_count": 58,
     "metadata": {},
     "output_type": "execute_result"
    }
   ],
   "source": [
    "y_pred = ridge.predict(X_test)\n",
    "ridge.rmse(y_pred, y_test)"
   ]
  },
  {
   "cell_type": "markdown",
   "id": "d6fcad41",
   "metadata": {},
   "source": [
    "### <i><font face=\"Computer Modern\" size = 5 > 4.  ElasticNet </font>\n"
   ]
  },
  {
   "cell_type": "markdown",
   "id": "134f3fff",
   "metadata": {},
   "source": [
    "<i><font face=\"Computer Modern Sans\" size = 4>On teste maintenant l'Algorithme sur des donnees multivariees</font></i>"
   ]
  },
  {
   "cell_type": "code",
   "execution_count": 72,
   "id": "dd50545f",
   "metadata": {},
   "outputs": [],
   "source": [
    "from sklearn.datasets import load_diabetes\n",
    "diabetes = load_diabetes()\n",
    "X = diabetes.data\n",
    "Y = diabetes.target"
   ]
  },
  {
   "cell_type": "code",
   "execution_count": 74,
   "id": "253ee130",
   "metadata": {},
   "outputs": [
    {
     "data": {
      "text/plain": [
       "(442, 1)"
      ]
     },
     "execution_count": 74,
     "metadata": {},
     "output_type": "execute_result"
    }
   ],
   "source": [
    "Y = Y.reshape(-1,1)\n",
    "Y.shape"
   ]
  },
  {
   "cell_type": "code",
   "execution_count": 71,
   "id": "dc741032",
   "metadata": {},
   "outputs": [
    {
     "data": {
      "text/plain": [
       "(442, 10)"
      ]
     },
     "execution_count": 71,
     "metadata": {},
     "output_type": "execute_result"
    }
   ],
   "source": [
    "X.shape"
   ]
  },
  {
   "cell_type": "code",
   "execution_count": 76,
   "id": "dbd5060d",
   "metadata": {},
   "outputs": [],
   "source": [
    "X_train, y_train, X_test, y_test = elastic.train_test_split(X,Y,ratio=0.3,random_seed=44)"
   ]
  },
  {
   "cell_type": "code",
   "execution_count": 77,
   "id": "529e5e9b",
   "metadata": {},
   "outputs": [],
   "source": [
    "elastic = gradient_descent.GradientDescent(regularize = 'elasticNet', learning_rate = 0.01, normalize = True)"
   ]
  },
  {
   "cell_type": "code",
   "execution_count": 78,
   "id": "2efbbc99",
   "metadata": {},
   "outputs": [
    {
     "name": "stdout",
     "output_type": "stream",
     "text": [
      "Les meilleurs parametres de penalite pour la regularisation sont : lambda =  0.81 , alpha =  0.41000000000000003\n"
     ]
    },
    {
     "data": {
      "image/png": "[encoded data removed]",
      "text/plain": [
       "<Figure size 432x288 with 1 Axes>"
      ]
     },
     "metadata": {
      "needs_background": "light"
     },
     "output_type": "display_data"
    }
   ],
   "source": [
    "elastic.tunning(X_train,y_train,scoring=\"rmse\") "
   ]
  },
  {
   "cell_type": "code",
   "execution_count": 80,
   "id": "73de8dc3",
   "metadata": {},
   "outputs": [
    {
     "data": {
      "image/png": "[encoded data removed]",
      "text/plain": [
       "<Figure size 432x288 with 1 Axes>"
      ]
     },
     "metadata": {
      "needs_background": "light"
     },
     "output_type": "display_data"
    }
   ],
   "source": [
    "elastic.fit(X_train,y_train,lambd = 0.81, alpha = 0.41) "
   ]
  },
  {
   "cell_type": "code",
   "execution_count": 84,
   "id": "42ed10b0",
   "metadata": {},
   "outputs": [
    {
     "data": {
      "text/plain": [
       "52.15885907066837"
      ]
     },
     "execution_count": 84,
     "metadata": {},
     "output_type": "execute_result"
    }
   ],
   "source": [
    "y_pred = elastic.predict(X_test)\n",
    "elastic.rmse(y_pred, y_test)"
   ]
  }
 ],
 "metadata": {
  "kernelspec": {
   "display_name": "Python 3 (ipykernel)",
   "language": "python",
   "name": "python3"
  },
  "language_info": {
   "codemirror_mode": {
    "name": "ipython",
    "version": 3
   },
   "file_extension": ".py",
   "mimetype": "text/x-python",
   "name": "python",
   "nbconvert_exporter": "python",
   "pygments_lexer": "ipython3",
   "version": "3.9.7"
  }
 },
 "nbformat": 4,
 "nbformat_minor": 5
}
